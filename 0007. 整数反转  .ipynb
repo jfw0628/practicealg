{
 "cells": [
  {
   "cell_type": "markdown",
   "id": "a8bf7705",
   "metadata": {},
   "source": [
    "7. 整数反转  \n",
    "\n",
    "给你一个 32 位的有符号整数 x ，返回将 x 中的数字部分反转后的结果。  \n",
    "\n",
    "如果反转后整数超过 32 位的有符号整数的范围 [−231,  231 − 1] ，就返回 0。  \n",
    "\n",
    "假设环境不允许存储 64 位整数（有符号或无符号）。  \n",
    " \n",
    "\n",
    "示例 1：  \n",
    "\n",
    "输入：x = 123  \n",
    "输出：321  \n",
    "示例 2：  \n",
    " \n",
    "输入：x = -123  \n",
    "输出：-321  \n",
    "示例 3：  \n",
    "\n",
    "输入：x = 120  \n",
    "输出：21  \n",
    "示例 4：  \n",
    "\n",
    "输入：x = 0  \n",
    "输出：0  \n",
    " \n",
    "  \n",
    "提示：  \n",
    "\n",
    "-2**31 <= x <= 2**31 - 1  "
   ]
  },
  {
   "cell_type": "code",
   "execution_count": 22,
   "id": "b0ef8fa6",
   "metadata": {},
   "outputs": [],
   "source": [
    "class Solution:\n",
    "    def reverse(self, x: int) -> int:\n",
    "        sign = 1 if x >= 0 else -1\n",
    "        x = x if x > 0 else x * -1\n",
    "        \n",
    "        res = 0\n",
    "        while x > 0:\n",
    "            c = x % 10 \n",
    "            res = res * 10 + c\n",
    "            x = int(x / 10)\n",
    "        \n",
    "        res = res * sign\n",
    "        if res < -2**31 or res >  2**31 - 1:\n",
    "            return 0\n",
    "        return res\n",
    "        \n",
    "        \n",
    "        "
   ]
  },
  {
   "cell_type": "code",
   "execution_count": 23,
   "id": "e6690825",
   "metadata": {},
   "outputs": [
    {
     "data": {
      "text/plain": [
       "0"
      ]
     },
     "execution_count": 23,
     "metadata": {},
     "output_type": "execute_result"
    }
   ],
   "source": [
    "Solution().reverse(1534236469)"
   ]
  },
  {
   "cell_type": "code",
   "execution_count": null,
   "id": "a7461dda",
   "metadata": {},
   "outputs": [],
   "source": []
  }
 ],
 "metadata": {
  "kernelspec": {
   "display_name": "Python 3 (ipykernel)",
   "language": "python",
   "name": "python3"
  },
  "language_info": {
   "codemirror_mode": {
    "name": "ipython",
    "version": 3
   },
   "file_extension": ".py",
   "mimetype": "text/x-python",
   "name": "python",
   "nbconvert_exporter": "python",
   "pygments_lexer": "ipython3",
   "version": "3.9.12"
  }
 },
 "nbformat": 4,
 "nbformat_minor": 5
}
