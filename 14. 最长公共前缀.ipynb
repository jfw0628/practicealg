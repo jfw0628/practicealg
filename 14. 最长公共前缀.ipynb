{
 "cells": [
  {
   "cell_type": "markdown",
   "id": "cf5688db",
   "metadata": {},
   "source": [
    "14. 最长公共前缀\n",
    "\n",
    "编写一个函数来查找字符串数组中的最长公共前缀。 \n",
    "\n",
    "如果不存在公共前缀，返回空字符串 \"\"。  \n",
    "\n",
    " \n",
    " \n",
    "示例 1：  \n",
    "\n",
    "输入：strs = [\"flower\",\"flow\",\"flight\"]  \n",
    "输出：\"fl\"  \n",
    "示例 2：  \n",
    "  \n",
    "输入：strs = [\"dog\",\"racecar\",\"car\"]  \n",
    "输出：\"\"  \n",
    "解释：输入不存在公共前缀。  \n",
    " \n",
    "\n",
    "提示：  \n",
    "\n",
    "1 <= strs.length <= 200  \n",
    "0 <= strs[i].length <= 200  \n",
    "strs[i] 仅由小写英文字母组成  \n"
   ]
  },
  {
   "cell_type": "code",
   "execution_count": 8,
   "id": "067ba1bf",
   "metadata": {},
   "outputs": [],
   "source": [
    "from typing import List\n",
    "class Solution:\n",
    "    def longestCommonPrefix(self, strs: List[str]) -> str:\n",
    "        prefix = strs[0]\n",
    "        for a_str in strs[1:]:\n",
    "            if len(a_str) < len(prefix):\n",
    "                prefix = a_str\n",
    "        \n",
    "        for a_str in strs:\n",
    "            if len(prefix) == 0:\n",
    "                return ''\n",
    "            for i, s in enumerate(prefix):\n",
    "                if a_str[i] != s:\n",
    "                    prefix = prefix[:i]\n",
    "    \n",
    "        return prefix\n",
    "        \n",
    "        "
   ]
  },
  {
   "cell_type": "code",
   "execution_count": 9,
   "id": "2b7da3d0",
   "metadata": {},
   "outputs": [
    {
     "data": {
      "text/plain": [
       "'fl'"
      ]
     },
     "execution_count": 9,
     "metadata": {},
     "output_type": "execute_result"
    }
   ],
   "source": [
    "Solution().longestCommonPrefix([\"flower\",\"flow\",\"flight\"])"
   ]
  },
  {
   "cell_type": "code",
   "execution_count": 10,
   "id": "6356fc92",
   "metadata": {},
   "outputs": [
    {
     "data": {
      "text/plain": [
       "'flo'"
      ]
     },
     "execution_count": 10,
     "metadata": {},
     "output_type": "execute_result"
    }
   ],
   "source": [
    "Solution().longestCommonPrefix([\"flower\",\"flow\",\"floight\"])"
   ]
  },
  {
   "cell_type": "code",
   "execution_count": 11,
   "id": "f297647b",
   "metadata": {},
   "outputs": [
    {
     "data": {
      "text/plain": [
       "''"
      ]
     },
     "execution_count": 11,
     "metadata": {},
     "output_type": "execute_result"
    }
   ],
   "source": [
    "Solution().longestCommonPrefix([\"reflower\",\"flow\",\"flight\"])\n",
    "\n"
   ]
  },
  {
   "cell_type": "code",
   "execution_count": null,
   "id": "c3034777",
   "metadata": {},
   "outputs": [],
   "source": []
  }
 ],
 "metadata": {
  "kernelspec": {
   "display_name": "Python 3 (ipykernel)",
   "language": "python",
   "name": "python3"
  },
  "language_info": {
   "codemirror_mode": {
    "name": "ipython",
    "version": 3
   },
   "file_extension": ".py",
   "mimetype": "text/x-python",
   "name": "python",
   "nbconvert_exporter": "python",
   "pygments_lexer": "ipython3",
   "version": "3.9.12"
  }
 },
 "nbformat": 4,
 "nbformat_minor": 5
}
