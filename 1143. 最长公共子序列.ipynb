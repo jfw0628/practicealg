{
 "cells": [
  {
   "cell_type": "markdown",
   "id": "9e1240a2",
   "metadata": {},
   "source": [
    "# 1143. 最长公共子序列\n",
    " \n",
    "给定两个字符串 text1 和 text2，返回这两个字符串的最长 公共子序列 的长度。如果不存在 公共子序列 ，返回 0 。  \n",
    "\n",
    "一个字符串的 子序列 是指这样一个新的字符串：它是由原字符串在不改变字符的相对顺序的情况下删除某些字符（也可以不删除任何字符）后组成的新字符串。  \n",
    "\n",
    "例如，\"ace\" 是 \"abcde\" 的子序列，但 \"aec\" 不是 \"abcde\" 的子序列。  \n",
    "两个字符串的 公共子序列 是这两个字符串所共同拥有的子序列。  \n",
    "\n",
    " \n",
    "\n",
    "示例 1：  \n",
    "\n",
    "输入：text1 = \"abcde\", text2 = \"ace\"   \n",
    "输出：3    \n",
    "解释：最长公共子序列是 \"ace\" ，它的长度为 3 。  \n",
    "示例 2：  \n",
    "\n",
    "输入：text1 = \"abc\", text2 = \"abc\"  \n",
    "输出：3  \n",
    "解释：最长公共子序列是 \"abc\" ，它的长度为 3 。  \n",
    "示例 3：\n",
    "\n",
    "输入：text1 = \"abc\", text2 = \"def\" \n",
    "输出：0  \n",
    "解释：两个字符串没有公共子序列，返回 0 。  \n",
    " \n",
    "\n",
    "提示：  \n",
    "\n",
    "1 <= text1.length, text2.length <= 1000  \n",
    "text1 和 text2 仅由小写英文字符组成。  "
   ]
  },
  {
   "cell_type": "code",
   "execution_count": 9,
   "id": "598f98d8",
   "metadata": {},
   "outputs": [],
   "source": [
    "class Solution:\n",
    "    def longestCommonSubsequence(self, text1: str, text2: str) -> int:\n",
    "        M = len(text1)\n",
    "        N = len(text2)\n",
    "        \n",
    "        dp = [[0] * (N + 1) for _ in range(M + 1)]\n",
    "        \n",
    "        for i in range(1, M + 1):\n",
    "            for j in range(1, N + 1):\n",
    "                if text1[i - 1] == text2[j - 1]:\n",
    "                    dp[i][j] = dp[i - 1][j - 1] + 1\n",
    "                else:\n",
    "                    dp[i][j] = max(dp[i-1][j], dp[i][j-1])\n",
    "        \n",
    "        return dp[M][N]\n",
    "        \n",
    "         \n",
    "        \n",
    "        \n",
    "        "
   ]
  },
  {
   "cell_type": "code",
   "execution_count": 10,
   "id": "12a5862f",
   "metadata": {},
   "outputs": [
    {
     "data": {
      "text/plain": [
       "3"
      ]
     },
     "execution_count": 10,
     "metadata": {},
     "output_type": "execute_result"
    }
   ],
   "source": [
    "text1 = \"abcde\"\n",
    "text2 = \"ace\" \n",
    "Solution().longestCommonSubsequence(text1, text2)"
   ]
  },
  {
   "cell_type": "code",
   "execution_count": 11,
   "id": "9b86184a",
   "metadata": {},
   "outputs": [
    {
     "data": {
      "text/plain": [
       "3"
      ]
     },
     "execution_count": 11,
     "metadata": {},
     "output_type": "execute_result"
    }
   ],
   "source": [
    "text1 = \"abc\"\n",
    "text2 = \"abc\"\n",
    "Solution().longestCommonSubsequence(text1, text2)"
   ]
  },
  {
   "cell_type": "code",
   "execution_count": null,
   "id": "11f66475",
   "metadata": {},
   "outputs": [],
   "source": []
  }
 ],
 "metadata": {
  "kernelspec": {
   "display_name": "Python 3 (ipykernel)",
   "language": "python",
   "name": "python3"
  },
  "language_info": {
   "codemirror_mode": {
    "name": "ipython",
    "version": 3
   },
   "file_extension": ".py",
   "mimetype": "text/x-python",
   "name": "python",
   "nbconvert_exporter": "python",
   "pygments_lexer": "ipython3",
   "version": "3.9.12"
  }
 },
 "nbformat": 4,
 "nbformat_minor": 5
}
