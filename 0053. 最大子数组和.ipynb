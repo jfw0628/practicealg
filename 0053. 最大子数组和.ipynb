{
 "cells": [
  {
   "cell_type": "markdown",
   "id": "ef87c908",
   "metadata": {},
   "source": [
    "53. 最大子数组和\n",
    "\n",
    "给你一个整数数组 nums ，请你找出一个具有最大和的连续子数组（子数组最少包含一个元素），返回其最大和。  \n",
    "\n",
    "子数组 是数组中的一个连续部分。  \n",
    "\n",
    " \n",
    "\n",
    "示例 1：  \n",
    "\n",
    "输入：nums = [-2,1,-3,4,-1,2,1,-5,4]  \n",
    "输出：6  \n",
    "解释：连续子数组 [4,-1,2,1] 的和最大，为 6 。  \n",
    "示例 2：  \n",
    "\n",
    "输入：nums = [1]  \n",
    "输出：1  \n",
    "示例 3：  \n",
    "\n",
    "输入：nums = [5,4,-1,7,8]  \n",
    "输出：23  \n",
    " \n",
    "\n",
    "提示：  \n",
    "\n",
    "1 <= nums.length <= 105  \n",
    "-104 <= nums[i] <= 104  \n",
    "    \n",
    "\n",
    "进阶：如果你已经实现复杂度为 O(n) 的解法，尝试使用更为精妙的 分治法 求解。  "
   ]
  },
  {
   "cell_type": "code",
   "execution_count": 2,
   "id": "6ddf3171",
   "metadata": {},
   "outputs": [],
   "source": [
    "from typing import List"
   ]
  },
  {
   "cell_type": "code",
   "execution_count": 10,
   "id": "32e7aa03",
   "metadata": {},
   "outputs": [],
   "source": [
    "class Solution:\n",
    "    def maxSubArray(self, nums: List[int]) -> int:\n",
    "        sum_sub_array = [nums[0]]\n",
    "        for num in nums[1:]:\n",
    "            sum_sub_array.append(max(num, sum_sub_array[-1] + num))\n",
    "        \n",
    "        return max(sum_sub_array)"
   ]
  },
  {
   "cell_type": "code",
   "execution_count": 16,
   "id": "a4e25ea4",
   "metadata": {},
   "outputs": [
    {
     "name": "stderr",
     "output_type": "stream",
     "text": [
      "....\n",
      "----------------------------------------------------------------------\n",
      "Ran 4 tests in 0.001s\n",
      "\n",
      "OK\n"
     ]
    },
    {
     "data": {
      "text/plain": [
       "<unittest.runner.TextTestResult run=4 errors=0 failures=0>"
      ]
     },
     "execution_count": 16,
     "metadata": {},
     "output_type": "execute_result"
    }
   ],
   "source": [
    "import unittest\n",
    "\n",
    "class TestMaxSubArray(unittest.TestCase):\n",
    "    def testOneElement(self):\n",
    "        res = Solution().maxSubArray([-100])\n",
    "        self.assertEqual(res, -100)\n",
    "        \n",
    "        \n",
    "    def testTwoElements(self):\n",
    "        res = Solution().maxSubArray([-100, -50])\n",
    "        self.assertEqual(res, -50)\n",
    "        \n",
    "        res = Solution().maxSubArray([-100, 1])\n",
    "        self.assertEqual(res, 1)\n",
    "        \n",
    "        res = Solution().maxSubArray([49, 1])\n",
    "        self.assertEqual(res, 50)\n",
    "        \n",
    "    def testThreeElements(self):\n",
    "        res = Solution().maxSubArray([-100, -50, -30])\n",
    "        self.assertEqual(res, -30)\n",
    "        \n",
    "        res = Solution().maxSubArray([-100, 1, 2])\n",
    "        self.assertEqual(res, 3)\n",
    "        \n",
    "        res = Solution().maxSubArray([100, -9, 8])\n",
    "        self.assertEqual(res, 100)\n",
    "        \n",
    "        res = Solution().maxSubArray([100, -9, 10])\n",
    "        self.assertEqual(res, 101)\n",
    "        \n",
    "    \n",
    "    def testMultiElements(self):\n",
    "        res = Solution().maxSubArray( [-2,1,-3,4,-1,2,1,-5,4])\n",
    "        self.assertEqual(res, 6)\n",
    "        \n",
    "        res = Solution().maxSubArray([5,4,-1,7,8])\n",
    "        self.assertEqual(res, 23)\n",
    "        \n",
    "        \n",
    "suite = unittest.TestLoader().loadTestsFromTestCase(TestMaxSubArray)\n",
    "unittest.TextTestRunner().run(suite)"
   ]
  },
  {
   "cell_type": "code",
   "execution_count": null,
   "id": "9ef26435",
   "metadata": {},
   "outputs": [],
   "source": []
  }
 ],
 "metadata": {
  "kernelspec": {
   "display_name": "Python 3 (ipykernel)",
   "language": "python",
   "name": "python3"
  },
  "language_info": {
   "codemirror_mode": {
    "name": "ipython",
    "version": 3
   },
   "file_extension": ".py",
   "mimetype": "text/x-python",
   "name": "python",
   "nbconvert_exporter": "python",
   "pygments_lexer": "ipython3",
   "version": "3.9.12"
  }
 },
 "nbformat": 4,
 "nbformat_minor": 5
}
