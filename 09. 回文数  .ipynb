{
 "cells": [
  {
   "cell_type": "markdown",
   "id": "67ce90c8",
   "metadata": {},
   "source": [
    "9. 回文数  \n",
    "\n",
    "给你一个整数 x ，如果 x 是一个回文整数，返回 true ；否则，返回 false 。  \n",
    "\n",
    "回文数是指正序（从左向右）和倒序（从右向左）读都是一样的整数。  \n",
    "\n",
    "例如，121 是回文，而 123 不是。  \n",
    " \n",
    "\n",
    "示例 1：  \n",
    "\n",
    "输入：x = 121   \n",
    "输出：true  \n",
    "示例 2：  \n",
    "\n",
    "输入：x = -121  \n",
    "输出：false  \n",
    "解释：从左向右读, 为 -121 。 从右向左读, 为 121- 。因此它不是一个回文数。  \n",
    "示例 3：   \n",
    "\n",
    "输入：x = 10  \n",
    "输出：false   \n",
    "解释：从右向左读, 为 01 。因此它不是一个回文数。  \n",
    " \n",
    "\n",
    "提示：  \n",
    "\n",
    "-2^31 <= x <= 2^31 - 1  \n",
    " "
   ]
  },
  {
   "cell_type": "code",
   "execution_count": 1,
   "id": "478ab1f8",
   "metadata": {},
   "outputs": [],
   "source": [
    "class Solution:\n",
    "    def isPalindrome(self, x: int) -> bool:\n",
    "        if x < 0:\n",
    "            return False\n",
    "        \n",
    "        \n",
    "        reverse_num = 0\n",
    "        orin_num = x\n",
    "        while x > 0:\n",
    "            reverse_num = reverse_num * 10 + x % 10\n",
    "            x = int(x / 10)\n",
    "            \n",
    "        \n",
    "        if reverse_num == orin_num:\n",
    "            return True\n",
    "        else:\n",
    "            return False\n",
    "        "
   ]
  },
  {
   "cell_type": "code",
   "execution_count": 6,
   "id": "de42906e",
   "metadata": {},
   "outputs": [
    {
     "data": {
      "text/plain": [
       "False"
      ]
     },
     "execution_count": 6,
     "metadata": {},
     "output_type": "execute_result"
    }
   ],
   "source": [
    "Solution().isPalindrome(-121)"
   ]
  },
  {
   "cell_type": "code",
   "execution_count": null,
   "id": "9686b00c",
   "metadata": {},
   "outputs": [],
   "source": []
  }
 ],
 "metadata": {
  "kernelspec": {
   "display_name": "Python 3 (ipykernel)",
   "language": "python",
   "name": "python3"
  },
  "language_info": {
   "codemirror_mode": {
    "name": "ipython",
    "version": 3
   },
   "file_extension": ".py",
   "mimetype": "text/x-python",
   "name": "python",
   "nbconvert_exporter": "python",
   "pygments_lexer": "ipython3",
   "version": "3.9.12"
  }
 },
 "nbformat": 4,
 "nbformat_minor": 5
}
