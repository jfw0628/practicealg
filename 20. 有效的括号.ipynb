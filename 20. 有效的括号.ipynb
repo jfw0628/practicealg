{
 "cells": [
  {
   "cell_type": "markdown",
   "id": "4117ce09-0a05-4755-9106-e45ba97593d2",
   "metadata": {},
   "source": [
    "# 20. 有效的括号\r",
    "\r\n",
    "提示\r\n",
    "给定一个只包括 '('，')'，'{'，'}'，'['，']' 的字符串 s ，判断字符串  是否有效。\r\n",
    "\r\n",
    "有效  字符串需满足：\r\n",
    "\r\n",
    "左括号必须用相同  类型的右括号闭合。\r\n",
    "左括号必  须以正确的顺序闭合。\r\n",
    "每个右括号都有一个对  应的相同类型的左括  号。\r\n",
    " \r\n",
    "\r\n",
    "示例 1  ：\r\n",
    "\r\n",
    "输入：  s = \"(  )\"\r\n",
    "输出：true\r\n",
    "示例 2  ：\r\n",
    "\r\n",
    "输入：  s = \"(  )[]{}\"\r\n",
    "输出：tr   ue\r\n",
    "示例 3：  \r\n",
    "\r\n",
    "输入：  s   = \"(]\"\r\n",
    "输出：false\r\n",
    " \r",
    "  \n",
    "\r\n",
    "提示：\r\n",
    "\r\n",
    "1 <= s.le  ngth <= 104\r\n",
    "s 仅由括号 '()[]{}' 组成"
   ]
  },
  {
   "cell_type": "code",
   "execution_count": 1,
   "id": "7591fe05-2815-4db2-aa80-a08cc0b6932a",
   "metadata": {},
   "outputs": [
    {
     "name": "stdout",
     "output_type": "stream",
     "text": [
      "1\n"
     ]
    }
   ],
   "source": [
    "print(1)"
   ]
  },
  {
   "cell_type": "code",
   "execution_count": 12,
   "id": "4613de1f-00ff-42bb-8a79-4b8babc2eb75",
   "metadata": {},
   "outputs": [],
   "source": [
    "class Solution:\n",
    "    def isValid(self, s: str) -> bool:\n",
    "        valid_parenthesises = {'(', ')', '[', ']', '{', '}'}\n",
    "        left_parenthesises = {'(', '[', '{'}\n",
    "\n",
    "        right_parenthesises_mappings = {')': '(', ']':'[', '}':'{'}\n",
    "        \n",
    "        \n",
    "        current_left_parenthesises = ['/']\n",
    "        for c in s:\n",
    "            if c not in valid_parenthesises:\n",
    "                continue\n",
    "\n",
    "            if c in left_parenthesises:\n",
    "                current_left_parenthesises.append(c)\n",
    "            else:\n",
    "                if current_left_parenthesises[-1] == right_parenthesises_mappings[c]:\n",
    "                    current_left_parenthesises.pop()\n",
    "                else:\n",
    "                    return False\n",
    "        if len(current_left_parenthesises) == 1:\n",
    "            return True\n",
    "        else:\n",
    "            return False\n",
    "\n",
    "        \n",
    "        \n",
    "\n",
    "        "
   ]
  },
  {
   "cell_type": "code",
   "execution_count": 13,
   "id": "f417bd86-04d3-46ac-b33f-d52f0dc38aca",
   "metadata": {},
   "outputs": [
    {
     "data": {
      "text/plain": [
       "False"
      ]
     },
     "execution_count": 13,
     "metadata": {},
     "output_type": "execute_result"
    }
   ],
   "source": [
    "Solution().isValid(\"(\")"
   ]
  },
  {
   "cell_type": "code",
   "execution_count": 17,
   "id": "44e760a2-2163-4ab0-beea-b4c31ac42e02",
   "metadata": {},
   "outputs": [
    {
     "data": {
      "text/plain": [
       "False"
      ]
     },
     "execution_count": 17,
     "metadata": {},
     "output_type": "execute_result"
    }
   ],
   "source": [
    "Solution().isValid(\")\")"
   ]
  },
  {
   "cell_type": "code",
   "execution_count": 14,
   "id": "27c5756a-394a-4696-8dcf-ecda4a4b7283",
   "metadata": {},
   "outputs": [
    {
     "data": {
      "text/plain": [
       "True"
      ]
     },
     "execution_count": 14,
     "metadata": {},
     "output_type": "execute_result"
    }
   ],
   "source": [
    "Solution().isValid(\"()\")"
   ]
  },
  {
   "cell_type": "code",
   "execution_count": 15,
   "id": "9e13ec34-6aa1-4b42-8e86-e2863f774de9",
   "metadata": {},
   "outputs": [
    {
     "data": {
      "text/plain": [
       "True"
      ]
     },
     "execution_count": 15,
     "metadata": {},
     "output_type": "execute_result"
    }
   ],
   "source": [
    "Solution().isValid(\"([])\")"
   ]
  },
  {
   "cell_type": "code",
   "execution_count": 16,
   "id": "308cb9c7-aac2-448b-8a5a-1cdceddb9865",
   "metadata": {},
   "outputs": [
    {
     "data": {
      "text/plain": [
       "True"
      ]
     },
     "execution_count": 16,
     "metadata": {},
     "output_type": "execute_result"
    }
   ],
   "source": [
    "Solution().isValid(\"(){}[]\")"
   ]
  }
 ],
 "metadata": {
  "kernelspec": {
   "display_name": "Python 3 (ipykernel)",
   "language": "python",
   "name": "python3"
  },
  "language_info": {
   "codemirror_mode": {
    "name": "ipython",
    "version": 3
   },
   "file_extension": ".py",
   "mimetype": "text/x-python",
   "name": "python",
   "nbconvert_exporter": "python",
   "pygments_lexer": "ipython3",
   "version": "3.11.5"
  }
 },
 "nbformat": 4,
 "nbformat_minor": 5
}
