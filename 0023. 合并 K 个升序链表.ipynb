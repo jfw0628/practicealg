{
 "cells": [
  {
   "cell_type": "markdown",
   "id": "dfea278e",
   "metadata": {},
   "source": [
    "# 23. 合并 K 个升序链表\n",
    " \n",
    "给你一个链表数组，每个链表都已经按升序排列。  \n",
    "\n",
    "请你将所有链表合并到一个升序链表中，返回合并后的链表。  \n",
    "\n",
    " \n",
    "\n",
    "示例 1：  \n",
    "\n",
    "输入：lists = [[1,4,5],[1,3,4],[2,6]]  \n",
    "输出：[1,1,2,3,4,4,5,6]  \n",
    "解释：链表数组如下：  \n",
    "[  \n",
    "  1->4->5,  \n",
    "  1->3->4,  \n",
    "  2->6  \n",
    "]  \n",
    "将它们合并到一个有序链表中得到。  \n",
    "1->1->2->3->4->4->5->6  \n",
    "示例 2：  \n",
    "  \n",
    "输入：lists = []  \n",
    "输出：[]  \n",
    "示例 3：  \n",
    "  \n",
    "输入：lists = [[]]  \n",
    "输出：[]  \n",
    "   \n",
    "\n",
    "提示：  \n",
    "  \n",
    "k == lists.length  \n",
    "0 <= k <= 10^4  \n",
    "0 <= lists[i].length <= 500  \n",
    "-10^4 <= lists[i][j] <= 10^4  \n",
    "lists[i] 按 升序 排列  \n",
    "lists[i].length 的总和不超过 10^4  "
   ]
  },
  {
   "cell_type": "markdown",
   "id": "38041b8e",
   "metadata": {},
   "source": [
    "### solution\n",
    "\n",
    "Step 1, We first iterate all list, and use insert sort method to record the order of all the listNode  \n",
    "Step 2, pop the first, add the value to new list  \n",
    "Step 3, insert the the next of step 2 element to the sorted list  \n",
    "Repeat step 2 & 3 till sorted list is empty  \n",
    "\n"
   ]
  },
  {
   "cell_type": "code",
   "execution_count": 1,
   "id": "0ace0903",
   "metadata": {},
   "outputs": [],
   "source": [
    "from typing import Optional, List\n",
    "from list_utils import ListNode"
   ]
  },
  {
   "cell_type": "code",
   "execution_count": 2,
   "id": "a446f4f3",
   "metadata": {},
   "outputs": [],
   "source": [
    "from collections import deque\n",
    "class Solution:\n",
    "    def __init__(self):\n",
    "        self.sorted_list_node = deque()\n",
    "    \n",
    "    def insert(self, node):\n",
    "        if not node:\n",
    "            return \n",
    "        \n",
    "        index = 0\n",
    "        for index in range(len(self.sorted_list_node)):\n",
    "            if self.sorted_list_node[index].val > node.val:\n",
    "                self.sorted_list_node.insert(index, node)\n",
    "                return \n",
    "        \n",
    "        self.sorted_list_node.insert(index + 1, node)\n",
    "        \n",
    "        \n",
    "        print('...:', index, [i.val for i in self.sorted_list_node])\n",
    "                \n",
    "    \n",
    "    def mergeKLists(self, lists: List[Optional[ListNode]]) -> Optional[ListNode]:  \n",
    "        \n",
    "        cursor = dummy = ListNode()\n",
    "        \n",
    "        for node in lists:\n",
    "            self.insert(node)\n",
    "        \n",
    "        while self.sorted_list_node:\n",
    "            node = self.sorted_list_node.popleft()\n",
    "            cursor.next = node\n",
    "            cursor = cursor.next\n",
    "            self.insert(node.next)\n",
    "            \n",
    "        return dummy.next\n",
    "            "
   ]
  },
  {
   "cell_type": "code",
   "execution_count": 3,
   "id": "5d3e637d",
   "metadata": {},
   "outputs": [],
   "source": [
    "list1 = ListNode.create_list_with_arr([1,2,3,4])\n",
    "list2 = ListNode.create_list_with_arr([2,3,4,5])\n",
    "list3 = ListNode.create_list_with_arr([3,6,7,9])\n",
    "list4 = ListNode.create_list_with_arr([7,8])\n",
    "list5 = ListNode.create_list_with_arr([1,7,9,20])\n"
   ]
  },
  {
   "cell_type": "code",
   "execution_count": 4,
   "id": "4e3349d0",
   "metadata": {},
   "outputs": [
    {
     "name": "stdout",
     "output_type": "stream",
     "text": [
      "...: 0 [1]\n",
      "...: 0 [1, 2]\n",
      "...: 1 [1, 2, 3]\n",
      "...: 2 [1, 2, 3, 7]\n",
      "...: 3 [2, 2, 3, 7, 7]\n",
      "...: 1 [7, 7, 7]\n",
      "...: 1 [7, 7, 8]\n",
      "...: 1 [7, 8, 9]\n",
      "...: 1 [8, 9, 9]\n",
      "...: 0 [9, 20]\n",
      "[1, 1, 2, 2, 3, 3, 3, 4, 4, 5, 6, 7, 7, 7, 8, 9, 9, 20]\n"
     ]
    }
   ],
   "source": [
    "ListNode.print_list(Solution().mergeKLists([list1, list2, list3, list4, list5]))"
   ]
  },
  {
   "cell_type": "code",
   "execution_count": 5,
   "id": "8f7cf3d1",
   "metadata": {},
   "outputs": [
    {
     "name": "stdout",
     "output_type": "stream",
     "text": [
      "...: 0 [1]\n",
      "...: 0 [1]\n",
      "...: 0 [2]\n",
      "...: 0 [2]\n",
      "...: 0 [3]\n",
      "...: 0 [3]\n",
      "...: 0 [3]\n",
      "...: 0 [4]\n",
      "...: 0 [4]\n",
      "...: 0 [5]\n",
      "...: 0 [6]\n",
      "...: 0 [7]\n",
      "...: 0 [7]\n",
      "...: 0 [7]\n",
      "...: 0 [8]\n",
      "...: 0 [9]\n",
      "...: 0 [9]\n",
      "...: 0 [20]\n",
      "[1, 1, 2, 2, 3, 3, 3, 4, 4, 5, 6, 7, 7, 7, 8, 9, 9, 20]\n"
     ]
    }
   ],
   "source": [
    "ListNode.print_list(Solution().mergeKLists([list1]))"
   ]
  },
  {
   "cell_type": "markdown",
   "id": "eb3c944d",
   "metadata": {},
   "source": [
    "Insert sort is quite slow, since it is sorted deque, we can use binary find index\n",
    "\n",
    "Just for practicing writing code, it would be better to use heap, the code would be much cleaner"
   ]
  },
  {
   "cell_type": "code",
   "execution_count": 124,
   "id": "fbdd0c92",
   "metadata": {},
   "outputs": [],
   "source": [
    "from collections import deque\n",
    "class Solution:\n",
    "    def __init__(self):\n",
    "        self.sorted_list_node = deque()\n",
    "    \n",
    "    def insert(self, node):\n",
    "        if not node:\n",
    "            return \n",
    "        \n",
    "        if len(self.sorted_list_node) == 0:\n",
    "            self.sorted_list_node.append(node)\n",
    "            return \n",
    "        \n",
    "        if len(self.sorted_list_node) <= 3:\n",
    "            index = 0\n",
    "            for index in range(len(self.sorted_list_node)):\n",
    "                if self.sorted_list_node[index].val > node.val:\n",
    "                    self.sorted_list_node.insert(index, node)\n",
    "                    return \n",
    "\n",
    "            self.sorted_list_node.insert(index + 1, node)\n",
    "            return \n",
    "        \n",
    "        left, right = 0, len(self.sorted_list_node) - 1\n",
    "        \n",
    "        while left <= right:\n",
    "            middle = (left + right) // 2\n",
    "            middle_left = middle - 1 if middle - 1 > left else left\n",
    "            if self.sorted_list_node[middle].val == node.val or \\\n",
    "                (self.sorted_list_node[middle_left].val <= node.val and self.sorted_list_node[middle].val >= node.val):\n",
    "                self.sorted_list_node.insert(middle, node)\n",
    "                return \n",
    "            elif self.sorted_list_node[middle].val > node.val:\n",
    "                right = middle - 1\n",
    "            else:\n",
    "                left = middle + 1\n",
    "    \n",
    "        self.sorted_list_node.insert(left, node)\n",
    "        \n",
    "                \n",
    "    \n",
    "    def mergeKLists(self, lists: List[Optional[ListNode]]) -> Optional[ListNode]:  \n",
    "        \n",
    "        cursor = dummy = ListNode()\n",
    "        \n",
    "        for node in lists:\n",
    "            self.insert(node)\n",
    "        \n",
    "        while self.sorted_list_node:\n",
    "            node = self.sorted_list_node.popleft()\n",
    "            cursor.next = node\n",
    "            cursor = cursor.next\n",
    "            self.insert(node.next)\n",
    "                \n",
    "        return dummy.next\n",
    "            "
   ]
  },
  {
   "cell_type": "code",
   "execution_count": 125,
   "id": "72269807",
   "metadata": {},
   "outputs": [
    {
     "name": "stdout",
     "output_type": "stream",
     "text": [
      "[1, 1, 2, 2, 3, 3, 3, 4, 4, 5, 6, 7, 7, 7, 8, 9, 9, 20]\n"
     ]
    }
   ],
   "source": [
    "list1 = ListNode.create_list_with_arr([1,2,3,4])\n",
    "list2 = ListNode.create_list_with_arr([2,3,4,5])\n",
    "list3 = ListNode.create_list_with_arr([3,6,7,9])\n",
    "list4 = ListNode.create_list_with_arr([7,8])\n",
    "list5 = ListNode.create_list_with_arr([1,7,9,20])\n",
    "\n",
    "ListNode.print_list(Solution().mergeKLists([list1, list2, list3, list4, list5]))"
   ]
  },
  {
   "cell_type": "code",
   "execution_count": 121,
   "id": "54d4e273",
   "metadata": {},
   "outputs": [
    {
     "name": "stdout",
     "output_type": "stream",
     "text": [
      "[]\n"
     ]
    }
   ],
   "source": [
    "ListNode.print_list(Solution().mergeKLists([]))"
   ]
  },
  {
   "cell_type": "code",
   "execution_count": 126,
   "id": "ec138eff",
   "metadata": {},
   "outputs": [],
   "source": [
    "listnodes = [ListNode.create_list_with_arr(i) for i in [[-6,-3,-1,1,2,2,2],[-10,-8,-6,-2,4],[-2],[-8,-4,-3,-3,-2,-1,1,2,3],[-8,-6,-5,-4,-2,-2,2,4]]]"
   ]
  },
  {
   "cell_type": "code",
   "execution_count": 127,
   "id": "d84441cf",
   "metadata": {},
   "outputs": [
    {
     "name": "stdout",
     "output_type": "stream",
     "text": [
      "[-10, -8, -8, -8, -6, -6, -6, -5, -4, -4, -3, -3, -3, -2, -2, -2, -2, -2, -1, -1, 1, 1, 2, 2, 2, 2, 2, 3, 4, 4]\n"
     ]
    }
   ],
   "source": [
    "ListNode.print_list(Solution().mergeKLists(listnodes))"
   ]
  },
  {
   "cell_type": "markdown",
   "id": "3d3d761d",
   "metadata": {},
   "source": [
    "heap version, suppose to be quite simple"
   ]
  },
  {
   "cell_type": "code",
   "execution_count": 8,
   "id": "7ed4da7b",
   "metadata": {},
   "outputs": [],
   "source": [
    "import heapq"
   ]
  },
  {
   "cell_type": "code",
   "execution_count": 9,
   "id": "4ce08181",
   "metadata": {},
   "outputs": [],
   "source": [
    "a = [1,2,3]\n",
    "heapq.heapify(a)\n",
    "type(a)\n",
    "heapq.heappush(a, 5)\n",
    "heapq.heappush(a, -1)"
   ]
  },
  {
   "cell_type": "code",
   "execution_count": 10,
   "id": "100758b7",
   "metadata": {},
   "outputs": [
    {
     "data": {
      "text/plain": [
       "[1, 2, 3, 5]"
      ]
     },
     "execution_count": 10,
     "metadata": {},
     "output_type": "execute_result"
    }
   ],
   "source": [
    "heapq.heappop(a)\n",
    "a"
   ]
  },
  {
   "cell_type": "code",
   "execution_count": 11,
   "id": "4f71fbd5",
   "metadata": {},
   "outputs": [],
   "source": [
    "import heapq\n",
    "\n",
    "ListNode.__lt__ = lambda a, b: a.val < b.val\n",
    "\n",
    "class Solution:\n",
    "   \n",
    "    def mergeKLists(self, lists: List[Optional[ListNode]]) -> Optional[ListNode]:  \n",
    "        \n",
    "        cursor = dummy = ListNode()\n",
    "        \n",
    "        heapq.heapify(lists)\n",
    "        \n",
    "        while lists:\n",
    "            node = heapq.heappop(lists)\n",
    "            cursor.next = node\n",
    "            cursor = cursor.next\n",
    "            if node.next:\n",
    "                heapq.heappush(lists, node.next)\n",
    "                \n",
    "        return dummy.next\n",
    "            "
   ]
  },
  {
   "cell_type": "code",
   "execution_count": 12,
   "id": "89082263",
   "metadata": {},
   "outputs": [
    {
     "name": "stdout",
     "output_type": "stream",
     "text": [
      "[1, 1, 2, 2, 3, 3, 3, 4, 4, 5, 6, 7, 7, 7, 8, 9, 9, 20]\n"
     ]
    }
   ],
   "source": [
    "list1 = ListNode.create_list_with_arr([1,2,3,4])\n",
    "list2 = ListNode.create_list_with_arr([2,3,4,5])\n",
    "list3 = ListNode.create_list_with_arr([3,6,7,9])\n",
    "list4 = ListNode.create_list_with_arr([7,8])\n",
    "list5 = ListNode.create_list_with_arr([1,7,9,20])\n",
    "\n",
    "ListNode.print_list(Solution().mergeKLists([list1, list2, list3, list4, list5]))"
   ]
  },
  {
   "cell_type": "code",
   "execution_count": null,
   "id": "d4b3fae9",
   "metadata": {},
   "outputs": [],
   "source": []
  }
 ],
 "metadata": {
  "kernelspec": {
   "display_name": "Python 3 (ipykernel)",
   "language": "python",
   "name": "python3"
  },
  "language_info": {
   "codemirror_mode": {
    "name": "ipython",
    "version": 3
   },
   "file_extension": ".py",
   "mimetype": "text/x-python",
   "name": "python",
   "nbconvert_exporter": "python",
   "pygments_lexer": "ipython3",
   "version": "3.9.12"
  }
 },
 "nbformat": 4,
 "nbformat_minor": 5
}
