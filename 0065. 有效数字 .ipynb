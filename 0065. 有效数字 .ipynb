{
 "cells": [
  {
   "cell_type": "markdown",
   "id": "c09bde43",
   "metadata": {},
   "source": [
    "# 65. 有效数字  \n",
    " \n",
    "有效数字（按顺序）可以分成以下几个部分：  \n",
    "\n",
    "一个 小数 或者 整数  \n",
    "（可选）一个 'e' 或 'E' ，后面跟着一个 整数  \n",
    "小数（按顺序）可以分成以下几个部分：  \n",
    "\n",
    "（可选）一个符号字符（'+' 或 '-'）  \n",
    "下述格式之一：  \n",
    "至少一位数字，后面跟着一个点 '.'  \n",
    "至少一位数字，后面跟着一个点 '.' ，后面再跟着至少一位数字  \n",
    "一个点 '.' ，后面跟着至少一位数字  \n",
    "整数（按顺序）可以分成以下几个部分：  \n",
    "\n",
    "（可选）一个符号字符（'+' 或 '-'）  \n",
    "至少一位数字  \n",
    "部分有效数字列举如下：[\"2\", \"0089\", \"-0.1\", \"+3.14\", \"4.\", \"-.9\", \"2e10\", \"-90E3\", \"3e+7\", \"+6e-1\", \"53.5e93\", \"-123.456e789\"]  \n",
    " \n",
    "部分无效数字列举如下：[\"abc\", \"1a\", \"1e\", \"e3\", \"99e2.5\", \"--6\", \"-+3\", \"95a54e53\"]  \n",
    "  \n",
    "给你一个字符串 s ，如果 s 是一个 有效数字 ，请返回 true 。  \n",
    "\n",
    " \n",
    "\n",
    "示例 1：  \n",
    "\n",
    "输入：s = \"0\"  \n",
    "输出：true  \n",
    "示例 2：  \n",
    " \n",
    "输入：s = \"e\"  \n",
    "输出：false  \n",
    "示例 3：  \n",
    "\n",
    "输入：s = \".\"  \n",
    "输出：false  \n",
    " \n",
    "\n",
    "提示：  \n",
    "\n",
    "1 <= s.length <= 20  \n",
    "s 仅含英文字母（大写和小写），数字（0-9），加号 '+' ，减号 '-' ，或者点 '.' 。  "
   ]
  },
  {
   "cell_type": "code",
   "execution_count": 75,
   "id": "7032c565",
   "metadata": {},
   "outputs": [],
   "source": [
    "from enum import Enum\n",
    "class Solution:\n",
    "\n",
    "    @staticmethod\n",
    "    def isValidChar(char):\n",
    "        if char not in {'1', '2','3','4','5','6','7','8','9','0','.','+', '-', 'e', 'E'}:\n",
    "            return False\n",
    "        return True\n",
    "    \n",
    "    def isNumber(self, s: str) -> bool:\n",
    "        has_not_e = True\n",
    "        has_dot = False\n",
    "        has_num = False\n",
    "        can_sign = True\n",
    "        can_e = False\n",
    "        can_dot = True\n",
    "        need_num = False\n",
    "        \n",
    "        for a_char in s:\n",
    "            if not self.isValidChar(a_char):\n",
    "                #print('INVALID char')\n",
    "                return False\n",
    "            \n",
    "            if a_char.isdigit():\n",
    "                can_sign = False\n",
    "                can_dot = True\n",
    "                can_e = True\n",
    "                need_num = False\n",
    "                has_num = True\n",
    "                    \n",
    "            elif a_char.lower() == 'e':\n",
    "                if has_not_e and can_e:\n",
    "                    has_not_e = False\n",
    "                    can_sign = True\n",
    "                    can_dot = False\n",
    "                    can_e = False\n",
    "                    need_num = True\n",
    "                else:\n",
    "                    #print('INVALID E')\n",
    "                    return False\n",
    "\n",
    "            elif a_char == '.':\n",
    "                if not can_dot or not has_not_e or has_dot:\n",
    "                    #print('INVALID DOT')\n",
    "                    return False\n",
    "                if can_dot:\n",
    "                    can_dot = False\n",
    "                    has_dot = True\n",
    "                    can_sign = False\n",
    "                    if not has_num:\n",
    "                        need_num = True\n",
    "\n",
    "            else:\n",
    "                if not can_sign:\n",
    "                    #print('INVALID SIGN')\n",
    "                    return False\n",
    "                else:\n",
    "                    can_dot = True\n",
    "                    can_sign = False\n",
    "                    need_num = True\n",
    "        \n",
    "        return not need_num"
   ]
  },
  {
   "cell_type": "code",
   "execution_count": 86,
   "id": "d3ea9c90",
   "metadata": {},
   "outputs": [
    {
     "name": "stderr",
     "output_type": "stream",
     "text": [
      "..\n",
      "----------------------------------------------------------------------\n",
      "Ran 2 tests in 0.001s\n",
      "\n",
      "OK\n"
     ]
    },
    {
     "data": {
      "text/plain": [
       "<unittest.runner.TextTestResult run=2 errors=0 failures=0>"
      ]
     },
     "execution_count": 86,
     "metadata": {},
     "output_type": "execute_result"
    }
   ],
   "source": [
    "import unittest\n",
    "\n",
    "class TestIsNumber(unittest.TestCase):\n",
    "    def testIsNumber(self):\n",
    "        test_elements = [\"2\", \"0089\", \"-0.1\", \"+3.14\", \"4.\", \"-.9\", \"2e10\", \"-90E3\", \"3e+7\", \"+6e-1\", \"53.5e93\", \"-123.456e789\"]\n",
    "        self.assertTrue(all([Solution().isNumber(i) for i in  test_elements]))\n",
    "        \n",
    "        \n",
    "    def testIsNotNumber(self):\n",
    "        test_elements = [\"abc\", \"1a\", \"1e\", \"e3\", \"99e2.5\", \"--6\", \"-+3\", \"95a54e53\", '.3.3', \".-4\"]\n",
    "        self.assertTrue(all([Solution().isNumber(i) == False for i in test_elements]))\n",
    "        \n",
    "\n",
    "suite = unittest.TestLoader().loadTestsFromTestCase(TestIsNumber)\n",
    "unittest.TextTestRunner().run(suite)\n",
    "    \n",
    "\n"
   ]
  },
  {
   "cell_type": "code",
   "execution_count": 68,
   "id": "3ceb34b5",
   "metadata": {},
   "outputs": [
    {
     "data": {
      "text/plain": [
       "True"
      ]
     },
     "execution_count": 68,
     "metadata": {},
     "output_type": "execute_result"
    }
   ],
   "source": [
    "Solution().isNumber('1212')"
   ]
  },
  {
   "cell_type": "code",
   "execution_count": 69,
   "id": "ab3beaa9",
   "metadata": {},
   "outputs": [
    {
     "data": {
      "text/plain": [
       "True"
      ]
     },
     "execution_count": 69,
     "metadata": {},
     "output_type": "execute_result"
    }
   ],
   "source": [
    "Solution().isNumber('1212.2')"
   ]
  },
  {
   "cell_type": "code",
   "execution_count": 70,
   "id": "cf579c2b",
   "metadata": {},
   "outputs": [
    {
     "data": {
      "text/plain": [
       "False"
      ]
     },
     "execution_count": 70,
     "metadata": {},
     "output_type": "execute_result"
    }
   ],
   "source": [
    "Solution().isNumber('.1212.2')"
   ]
  },
  {
   "cell_type": "code",
   "execution_count": 71,
   "id": "41361354",
   "metadata": {},
   "outputs": [
    {
     "data": {
      "text/plain": [
       "False"
      ]
     },
     "execution_count": 71,
     "metadata": {},
     "output_type": "execute_result"
    }
   ],
   "source": [
    "Solution().isNumber('a.1212.2')"
   ]
  },
  {
   "cell_type": "code",
   "execution_count": 72,
   "id": "53dfc425",
   "metadata": {},
   "outputs": [
    {
     "data": {
      "text/plain": [
       "[False, False, False, False, False, False, False, False]"
      ]
     },
     "execution_count": 72,
     "metadata": {},
     "output_type": "execute_result"
    }
   ],
   "source": [
    "[Solution().isNumber(i) for i in  [\"abc\", \"1a\", \"1e\", \"e3\", \"99e2.5\", \"--6\", \"-+3\", \"95a54e53\"]]"
   ]
  },
  {
   "cell_type": "code",
   "execution_count": 73,
   "id": "10f366d6",
   "metadata": {},
   "outputs": [
    {
     "data": {
      "text/plain": [
       "[('2', True),\n",
       " ('0089', True),\n",
       " ('-0.1', True),\n",
       " ('+3.14', True),\n",
       " ('4.', True),\n",
       " ('-.9', True),\n",
       " ('2e10', True),\n",
       " ('-90E3', True),\n",
       " ('3e+7', True),\n",
       " ('+6e-1', True),\n",
       " ('53.5e93', True),\n",
       " ('-123.456e789', True)]"
      ]
     },
     "execution_count": 73,
     "metadata": {},
     "output_type": "execute_result"
    }
   ],
   "source": [
    "[(i, Solution().isNumber(i)) for i in [\"2\", \"0089\", \"-0.1\", \"+3.14\", \"4.\", \"-.9\", \"2e10\", \"-90E3\", \"3e+7\", \"+6e-1\", \"53.5e93\", \"-123.456e789\"]]"
   ]
  },
  {
   "cell_type": "code",
   "execution_count": 60,
   "id": "2f758920",
   "metadata": {},
   "outputs": [
    {
     "data": {
      "text/plain": [
       "True"
      ]
     },
     "execution_count": 60,
     "metadata": {},
     "output_type": "execute_result"
    }
   ],
   "source": [
    "Solution().isNumber('2e10')"
   ]
  },
  {
   "cell_type": "code",
   "execution_count": 61,
   "id": "4e90fba2",
   "metadata": {},
   "outputs": [
    {
     "data": {
      "text/plain": [
       "False"
      ]
     },
     "execution_count": 61,
     "metadata": {},
     "output_type": "execute_result"
    }
   ],
   "source": [
    " Solution().isNumber(\"e3\")"
   ]
  },
  {
   "cell_type": "code",
   "execution_count": 62,
   "id": "a2a6af38",
   "metadata": {},
   "outputs": [
    {
     "data": {
      "text/plain": [
       "True"
      ]
     },
     "execution_count": 62,
     "metadata": {},
     "output_type": "execute_result"
    }
   ],
   "source": [
    "Solution().isNumber(\".3\")"
   ]
  },
  {
   "cell_type": "code",
   "execution_count": 74,
   "id": "ac39819a",
   "metadata": {},
   "outputs": [
    {
     "data": {
      "text/plain": [
       "[True, False, True, False]"
      ]
     },
     "execution_count": 74,
     "metadata": {},
     "output_type": "execute_result"
    }
   ],
   "source": [
    "[Solution().isNumber(i) for i in  [\".3\", '.3.3', '3.', \".-4\"]]"
   ]
  },
  {
   "cell_type": "code",
   "execution_count": null,
   "id": "13c372ea",
   "metadata": {},
   "outputs": [],
   "source": []
  }
 ],
 "metadata": {
  "kernelspec": {
   "display_name": "Python 3 (ipykernel)",
   "language": "python",
   "name": "python3"
  },
  "language_info": {
   "codemirror_mode": {
    "name": "ipython",
    "version": 3
   },
   "file_extension": ".py",
   "mimetype": "text/x-python",
   "name": "python",
   "nbconvert_exporter": "python",
   "pygments_lexer": "ipython3",
   "version": "3.9.12"
  }
 },
 "nbformat": 4,
 "nbformat_minor": 5
}
