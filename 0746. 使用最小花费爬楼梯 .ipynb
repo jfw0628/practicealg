{
 "cells": [
  {
   "cell_type": "markdown",
   "id": "6c5f7119",
   "metadata": {},
   "source": [
    "# 746. 使用最小花费爬楼梯  \n",
    " \n",
    "提示  \n",
    "给你一个整数数组 cost ，其中 cost[i] 是从楼梯第 i 个台阶向上爬需要支付的费用。一旦你支付此费用，即可选择向上爬一个或者两个台阶。  \n",
    "\n",
    "你可以选择从下标为 0 或下标为 1 的台阶开始爬楼梯。  \n",
    "\n",
    "请你计算并返回达到楼梯顶部的最低花费。  \n",
    "\n",
    " \n",
    "\n",
    "示例 1：  \n",
    "\n",
    "输入：cost = [10,15,20]  \n",
    "输出：15  \n",
    "解释：你将从下标为 1 的台阶开始。  \n",
    "- 支付 15 ，向上爬两个台阶，到达楼梯顶部。  \n",
    "总花费为 15 。  \n",
    "示例 2：  \n",
    "\n",
    "输入：cost = [1,100,1,1,1,100,1,1,100,1]  \n",
    "输出：6  \n",
    "解释：你将从下标为 0 的台阶开始。  \n",
    "- 支付 1 ，向上爬两个台阶，到达下标为 2 的台阶。  \n",
    "- 支付 1 ，向上爬两个台阶，到达下标为 4 的台阶。   \n",
    "- 支付 1 ，向上爬两个台阶，到达下标为 6 的台阶。  \n",
    "- 支付 1 ，向上爬一个台阶，到达下标为 7 的台阶。  \n",
    "- 支付 1 ，向上爬两个台阶，到达下标为 9 的台阶。  \n",
    "- 支付 1 ，向上爬一个台阶，到达楼梯顶部。\n",
    "总花费为 6 。  \n",
    " \n",
    "\n",
    "提示：  \n",
    "  \n",
    "2 <= cost.length <= 1000  \n",
    "0 <= cost[i] <= 999  "
   ]
  },
  {
   "cell_type": "code",
   "execution_count": 2,
   "id": "902954fd",
   "metadata": {},
   "outputs": [],
   "source": [
    "from typing import List"
   ]
  },
  {
   "cell_type": "code",
   "execution_count": 11,
   "id": "36407273",
   "metadata": {},
   "outputs": [],
   "source": [
    "# A way to easily to understand with recursion\n",
    "\n",
    "from functools import lru_cache\n",
    "\n",
    "\n",
    "class Solution:\n",
    "    def list_to_tuple(func):\n",
    "        def _wrapper(self, cost):\n",
    "            return func(self, tuple(cost))\n",
    "\n",
    "        return _wrapper\n",
    "\n",
    "    @list_to_tuple\n",
    "    @lru_cache\n",
    "    def minCostClimbingStairs(self, cost: List[int]) -> int:\n",
    "        n = len(cost)\n",
    "\n",
    "        if n == 1: return cost[0]\n",
    "        if n == 2: return min(cost[0], cost[1])\n",
    "        if n == 3: return min(cost[0] + cost[2], cost[1])\n",
    "\n",
    "\n",
    "        min_cost = min(self.minCostClimbingStairs(tuple(cost[:-1])) + cost[-1],\n",
    "                   self.minCostClimbingStairs(tuple(cost[:-2])) + cost[-2])\n",
    "\n",
    "        return min_cost"
   ]
  },
  {
   "cell_type": "code",
   "execution_count": 24,
   "id": "234b8f45",
   "metadata": {},
   "outputs": [],
   "source": [
    "class Solution:\n",
    "    def minCostClimbingStairs(self, cost: List[int]) -> int:\n",
    "        sum_c0 = sum_c1 = 0\n",
    "        \n",
    "        n = len(cost)\n",
    "        if n == 1: return cost[0]\n",
    "        \n",
    "        for i in range(1, n):\n",
    "            new_c = min(cost[i] + sum_c1, cost[i-1] + sum_c0)\n",
    "            sum_c0, sum_c1 = sum_c1, new_c\n",
    "            \n",
    "            \n",
    "        return sum_c1\n",
    "            \n",
    "            \n",
    "            "
   ]
  },
  {
   "cell_type": "code",
   "execution_count": 41,
   "id": "7788d7fc",
   "metadata": {},
   "outputs": [],
   "source": [
    "#dp\n",
    "class Solution:\n",
    "    def minCostClimbingStairs(self, cost: List[int]) -> int:\n",
    "        n = len(cost)\n",
    "        \n",
    "        dp = []\n",
    "        dp.append(0)\n",
    "        dp.append(0)\n",
    "            \n",
    "        for i in range(2, n+1):\n",
    "            dp.append(min(dp[i-1] + cost[i-1], dp[i-2] + cost[i-2]))\n",
    "        print(cost)\n",
    "        print(dp)\n",
    "        return dp[n]"
   ]
  },
  {
   "cell_type": "code",
   "execution_count": 42,
   "id": "a23da655",
   "metadata": {},
   "outputs": [
    {
     "name": "stderr",
     "output_type": "stream",
     "text": [
      "..\n",
      "----------------------------------------------------------------------\n",
      "Ran 2 tests in 0.001s\n",
      "\n",
      "OK\n"
     ]
    },
    {
     "name": "stdout",
     "output_type": "stream",
     "text": [
      "[1, 1, 2, 3, 1, 2, 1]\n",
      "[0, 0, 1, 1, 3, 4, 4, 5]\n",
      "[1, 100, 1, 1, 1, 100, 1, 1, 100, 1]\n",
      "[0, 0, 1, 2, 2, 3, 3, 4, 4, 5, 6]\n",
      "[2, 1]\n",
      "[0, 0, 1]\n",
      "[2, 1, 3]\n",
      "[0, 0, 1, 1]\n",
      "[1, 2, 1]\n",
      "[0, 0, 1, 2]\n"
     ]
    },
    {
     "data": {
      "text/plain": [
       "<unittest.runner.TextTestResult run=2 errors=0 failures=0>"
      ]
     },
     "execution_count": 42,
     "metadata": {},
     "output_type": "execute_result"
    }
   ],
   "source": [
    "import unittest\n",
    "\n",
    "class TestMinCostClimbingStairs(unittest.TestCase):\n",
    "    def testOneTwoThreeStairs(self):\n",
    "#         cost = [1]\n",
    "#         self.assertEqual(Solution().minCostClimbingStairs(cost), 1)\n",
    "        \n",
    "        cost = [2, 1]\n",
    "        self.assertEqual(Solution().minCostClimbingStairs(cost), 1)\n",
    "        \n",
    "        cost = [2, 1, 3]\n",
    "        self.assertEqual(Solution().minCostClimbingStairs(cost), 1)\n",
    "        \n",
    "        cost = [1, 2, 1]\n",
    "        self.assertEqual(Solution().minCostClimbingStairs(cost), 2)\n",
    "        \n",
    "    def testMoreStairs(self):\n",
    "        cost = [1,1,2,3,1,2,1]\n",
    "        self.assertEqual(Solution().minCostClimbingStairs(cost), 5)\n",
    "        \n",
    "        \n",
    "        cost = [1,100,1,1,1,100,1,1,100,1]\n",
    "        self.assertEqual(Solution().minCostClimbingStairs(cost), 6)\n",
    "\n",
    "suite = unittest.TestLoader().loadTestsFromTestCase(TestMinCostClimbingStairs)\n",
    "unittest.TextTestRunner().run(suite)"
   ]
  },
  {
   "cell_type": "code",
   "execution_count": null,
   "id": "1daee2e2",
   "metadata": {},
   "outputs": [],
   "source": []
  }
 ],
 "metadata": {
  "kernelspec": {
   "display_name": "Python 3 (ipykernel)",
   "language": "python",
   "name": "python3"
  },
  "language_info": {
   "codemirror_mode": {
    "name": "ipython",
    "version": 3
   },
   "file_extension": ".py",
   "mimetype": "text/x-python",
   "name": "python",
   "nbconvert_exporter": "python",
   "pygments_lexer": "ipython3",
   "version": "3.9.12"
  }
 },
 "nbformat": 4,
 "nbformat_minor": 5
}
