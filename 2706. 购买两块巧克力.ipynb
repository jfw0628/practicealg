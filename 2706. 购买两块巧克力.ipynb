{
 "cells": [
  {
   "cell_type": "markdown",
   "id": "200a9e42-6062-441e-a49e-722e0b0e327c",
   "metadata": {},
   "source": [
    "# 2706. 购买两块巧克力    \r",
    "\r\n",
    "给你一个整数数组 prices ，它表示一个商店里若干巧克力的价格。同时给你一个整数 money ，表示你一开始 有的钱数  。\r\n",
    "\r\n",
    "你必须购买 恰好 两块巧克力，而且剩余的钱数必须是 非负数 。同时你想最小化购买巧  克力的总  花费。\r\n",
    "\r\n",
    "请你返回在购买两块巧克力后，最多能剩下多少钱。如果购买任意两块巧克力都超过了你拥有的钱，请你返回 money 意剩余  钱数必须  是非负数。 \n",
    "\r\n",
    " \r",
    "  \n",
    "\r\n",
    "示例 1：\r\n",
    "\r\n",
    "输入：pres = [1,  2,2],     mone  y = 3\r\n",
    "输出：0\r\n",
    "解释：分别购买价格为 1 和 2 的巧克剩下 3 - 3    = 0 块钱    。所以我们  返回 0 。\r\n",
    "示例 2：\r\n",
    "\r\n",
    "输入rices   = [3,    2,3],   money = 3\r\n",
    "输出：3\r\n",
    "解释：购买任意 2 块巧克  力都会超过你拥    有的钱数，  所以我们返 3 。\r\n",
    " \r\n",
    "\r\n",
    "提示：\r",
    "     <= pr  ices.length <= 50\r\n",
    "1 <  = prices    [i] <=   100\r\n",
    "1 <= money <= 100\r\n"
   ]
  },
  {
   "cell_type": "code",
   "execution_count": 35,
   "id": "e5420abf-e6df-4023-8d4b-1036b6a644c6",
   "metadata": {},
   "outputs": [],
   "source": [
    "from typing import List"
   ]
  },
  {
   "cell_type": "code",
   "execution_count": 36,
   "id": "05b960d8-91c9-45bc-8087-817941a69457",
   "metadata": {},
   "outputs": [],
   "source": [
    "class Solution:\n",
    "    def buyChoco(self, prices: List[int], money: int) -> int:\n",
    "        min_a = prices[0]\n",
    "        min_b = prices[1]\n",
    "\n",
    "        for price in prices[2:]:\n",
    "            if price < min_a or price < min_b:\n",
    "                if min_a > min_b:\n",
    "                    min_a = price\n",
    "                else:\n",
    "                    min_b = price\n",
    "\n",
    "        return money if min_a + min_b > money else (money - min_a - min_b)\n",
    "        \n",
    "            "
   ]
  },
  {
   "cell_type": "code",
   "execution_count": 37,
   "id": "84f6c6c6-c056-47ab-a68c-1a39f98d887b",
   "metadata": {},
   "outputs": [
    {
     "data": {
      "text/plain": [
       "0"
      ]
     },
     "execution_count": 37,
     "metadata": {},
     "output_type": "execute_result"
    }
   ],
   "source": [
    "Solution().buyChoco([1,2,2], 3)"
   ]
  },
  {
   "cell_type": "code",
   "execution_count": 34,
   "id": "bcd024e7-047a-48de-956d-c2f05803d35e",
   "metadata": {},
   "outputs": [
    {
     "name": "stdout",
     "output_type": "stream",
     "text": [
      "6 98 54\n",
      "34 6 54\n",
      "6 34 22\n"
     ]
    },
    {
     "data": {
      "text/plain": [
       "22"
      ]
     },
     "execution_count": 34,
     "metadata": {},
     "output_type": "execute_result"
    }
   ],
   "source": [
    "Solution().buyChoco([98,54,6,34,66,63,52,39], 62)"
   ]
  },
  {
   "cell_type": "code",
   "execution_count": null,
   "id": "12662791-5fe2-4910-9643-e2790413af94",
   "metadata": {},
   "outputs": [],
   "source": []
  }
 ],
 "metadata": {
  "kernelspec": {
   "display_name": "Python 3 (ipykernel)",
   "language": "python",
   "name": "python3"
  },
  "language_info": {
   "codemirror_mode": {
    "name": "ipython",
    "version": 3
   },
   "file_extension": ".py",
   "mimetype": "text/x-python",
   "name": "python",
   "nbconvert_exporter": "python",
   "pygments_lexer": "ipython3",
   "version": "3.11.5"
  }
 },
 "nbformat": 4,
 "nbformat_minor": 5
}
