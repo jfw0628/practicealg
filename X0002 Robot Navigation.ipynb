{
 "cells": [
  {
   "cell_type": "markdown",
   "id": "e23a37e0-640c-47d3-ab69-2ba8b40d1369",
   "metadata": {},
   "source": [
    "# Robot Navigation\n",
    "\n",
    "A robot needs move from top left corner to bottom right corner in a 2D map. In this map, there are 0s and 1s. 0 means the robot can pass and 1 means the wall.   \n",
    "\n",
    "Please write a function that returns True or False, given at most k number of walls to demolish.  \n",
    "\n",
    "Example 1:  \n",
    "\n",
    "Input: grid = [[0, 1 0], [0, 1, 0]], k = 0  \n",
    "Output: False  \n",
    "Explanation: The robot cannot demolish any wall due to k == 0, the robot cannot reach the bottom right corner.  \n",
    "\n",
    "Example 2:  \n",
    "\n",
    "Input: grid = [[0, 1 0], [0, 1, 0]], k = 1  \n",
    "Output: True \n",
    "Explanation: The robot can demolish the wall (0, 1) or (1, 1) to reach the destination.  \n",
    "\n",
    "The function interface should be:  \n",
    "\n",
    "def robot_navigation(grid: list[list[int]], k:int)->bool:      \n",
    "    pass    \n",
    "\n"
   ]
  },
  {
   "cell_type": "code",
   "execution_count": 3,
   "id": "ec945380-4dd9-4857-95fb-ba045c11a1e8",
   "metadata": {},
   "outputs": [],
   "source": [
    "from list_utils import ListNode\n",
    "from typing import Optional\n",
    "import unittest"
   ]
  },
  {
   "cell_type": "code",
   "execution_count": 6,
   "id": "c31db7c1-767c-4513-95f2-b40c3a275faf",
   "metadata": {},
   "outputs": [],
   "source": [
    "def robot_navigation(grid: list[list[int]], k:int)->bool:\n",
    "    if not grid or len(grid) == 0:\n",
    "        return False\n",
    "\n",
    "    rows, cols = len(grid), len(grid[0])\n",
    "    if rows == 1 and cols == 1:\n",
    "        return True\n",
    "\n",
    "    if k >= rows + cols - 2:\n",
    "        return True\n",
    "\n",
    "    directions = [(0, 1), (1, 0)]\n",
    "    visited = [[0] * cols for _ in range(rows)]\n",
    "    visited[0][0] = 1\n",
    "    queue = [(0, 0, 0)]\n",
    "\n",
    "    while queue:\n",
    "        x, y, walls = queue.pop(0)\n",
    "        for dx, dy in directions:\n",
    "            new_x, new_y = x + dx, y + dy\n",
    "            if new_x < 0 or new_x >= rows or new_y < 0 or new_y >= cols:\n",
    "                continue\n",
    "            if new_x == rows - 1 and new_y == cols - 1:\n",
    "                return True\n",
    "            if grid[new_x][new_y] == 1 and walls < k:\n",
    "                queue.append((new_x, new_y, walls + 1))\n",
    "            elif grid[new_x][new_y] == 0:\n",
    "                queue.append((new_x, new_y, walls))\n",
    "            visited[new_x][new_y] = 1\n",
    "\n",
    "    return False\n"
   ]
  },
  {
   "cell_type": "code",
   "execution_count": 7,
   "id": "eceb17bd-4beb-42aa-ac42-617e1d26c8ee",
   "metadata": {},
   "outputs": [],
   "source": [
    "\n",
    "class TestRobotNavigation(unittest.TestCase):\n",
    "    \"\"\"\n",
    "    Test cases for the robot_navigation function.\n",
    "    \"\"\"\n",
    "    def test_basic_success(self):\n",
    "        grid = [[0, 0, 0], [0, 0, 0], [0, 0, 0]]\n",
    "        k = 0\n",
    "        self.assertTrue(robot_navigation(grid, k))\n",
    "    \n",
    "    def test_wall_blocking_path(self):\n",
    "        grid = [[0, 1, 0], [0, 0, 0], [0, 0, 0]]\n",
    "        k = 1\n",
    "        self.assertTrue(robot_navigation(grid, k))\n",
    "        \n",
    "    def test_unsolvable(self):\n",
    "        grid = [[0, 1, 0], [0, 1, 0], [0, 0, 0]]\n",
    "        k = 1\n",
    "        self.assertFalse(robot_navigation(grid, k))\n",
    "        \n",
    "    def test_corner_reachable_multiple_paths(self):\n",
    "        grid = [[0, 0, 0], [0, 1, 0], [0, 0, 0]]\n",
    "        k = 0\n",
    "        self.assertTrue(robot_navigation(grid, k))\n",
    "        \n",
    "    def test_edge_case_starting_on_wall(self):\n",
    "        grid = [[1, 0, 0], [0, 0, 0], [0, 0, 0]]\n",
    "        k = 1\n",
    "        self.assertFalse(robot_navigation(grid, k))\n"
   ]
  },
  {
   "cell_type": "code",
   "execution_count": 8,
   "id": "7c75b402-52b2-4c5e-b250-2d8256f4960f",
   "metadata": {},
   "outputs": [
    {
     "name": "stderr",
     "output_type": "stream",
     "text": [
      "..FF.\n",
      "======================================================================\n",
      "FAIL: test_edge_case_starting_on_wall (__main__.TestRobotNavigation)\n",
      "----------------------------------------------------------------------\n",
      "Traceback (most recent call last):\n",
      "  File \"/tmp/ipykernel_1941602/1276698409.py\", line 28, in test_edge_case_starting_on_wall\n",
      "    self.assertFalse(robot_navigation(grid, k))\n",
      "AssertionError: True is not false\n",
      "\n",
      "======================================================================\n",
      "FAIL: test_unsolvable (__main__.TestRobotNavigation)\n",
      "----------------------------------------------------------------------\n",
      "Traceback (most recent call last):\n",
      "  File \"/tmp/ipykernel_1941602/1276698409.py\", line 18, in test_unsolvable\n",
      "    self.assertFalse(robot_navigation(grid, k))\n",
      "AssertionError: True is not false\n",
      "\n",
      "----------------------------------------------------------------------\n",
      "Ran 5 tests in 0.003s\n",
      "\n",
      "FAILED (failures=2)\n"
     ]
    },
    {
     "data": {
      "text/plain": [
       "<unittest.runner.TextTestResult run=5 errors=0 failures=2>"
      ]
     },
     "execution_count": 8,
     "metadata": {},
     "output_type": "execute_result"
    }
   ],
   "source": [
    "suite = unittest.TestLoader().loadTestsFromTestCase(TestRobotNavigation)\n",
    "unittest.TextTestRunner().run(suite)"
   ]
  },
  {
   "cell_type": "code",
   "execution_count": null,
   "id": "e877e804-798e-4eb2-af8c-c43ac82cffd5",
   "metadata": {},
   "outputs": [],
   "source": []
  }
 ],
 "metadata": {
  "kernelspec": {
   "display_name": "Python 3 (ipykernel)",
   "language": "python",
   "name": "python3"
  },
  "language_info": {
   "codemirror_mode": {
    "name": "ipython",
    "version": 3
   },
   "file_extension": ".py",
   "mimetype": "text/x-python",
   "name": "python",
   "nbconvert_exporter": "python",
   "pygments_lexer": "ipython3",
   "version": "3.10.0"
  }
 },
 "nbformat": 4,
 "nbformat_minor": 5
}
