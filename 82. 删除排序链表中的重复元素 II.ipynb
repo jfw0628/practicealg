{
 "cells": [
  {
   "cell_type": "markdown",
   "id": "06a59bd6-1fbb-4d05-af9c-f2d8784cc5fa",
   "metadata": {},
   "source": [
    "# 82. 删除排序链表中的重复元素 II\r",
    "关企业\r\n",
    "给定一个已排序的链表的头 head ， 删除原始链表中所有重复数字的节点，只留下不同的数字 。返回 已排序的  链表 。\r\n",
    "\r\n",
    " \r",
    "  \n",
    "\r\n",
    "示例 1：\r\n",
    "\r\n",
    "\r\n",
    "输入：head = [1,2  ,3,3,4,4,5]  \r\n",
    "输出：[  1,2,5]\r\n",
    "示例 2：\r\n",
    "\r\n",
    "\r\n",
    "输入：he  ad = [1,1  ,1,2,3]  \r\n",
    "输出：[2,3]\r\n",
    " \r\n",
    "\r\n",
    "提示：\r\n",
    "\r",
    "  \n",
    "链表中节点数目在范围 [0, 300] 内\r\n",
    "  -100 <= Node.val   <= 100\r\n",
    "题目数据保证链表已经按升序 排列"
   ]
  },
  {
   "cell_type": "code",
   "execution_count": 46,
   "id": "6306b279-0fc2-40fd-a2f7-583a83fb55d2",
   "metadata": {},
   "outputs": [],
   "source": [
    "# Definition for singly-linked list.\n",
    "# from typing import Optional\n",
    "# class ListNode:\n",
    "#     def __init__(self, val=0, next=None):\n",
    "#         self.val = val\n",
    "#         self.next = next\n",
    "from list import ListNode\n",
    "        \n",
    "class Solution:\n",
    "    def deleteDuplicates(self, head: Optional[ListNode]) -> Optional[ListNode]:\n",
    "        if not head:\n",
    "            return None\n",
    "\n",
    "        left = dummy = ListNode(None, head)\n",
    "\n",
    "        right = head.next\n",
    "        has_duplicate_node = False\n",
    "        \n",
    "        while right:\n",
    "            if left.next.val == right.val:\n",
    "                has_duplicate_node = True\n",
    "            else:\n",
    "                if has_duplicate_node:\n",
    "                    has_duplicate_node = False\n",
    "                    left.next = right\n",
    "                else:\n",
    "                    left = left.next\n",
    "                    \n",
    "            right = right.next\n",
    "\n",
    "        if has_duplicate_node:\n",
    "            left.next = None\n",
    "        return dummy.next\n",
    "            \n",
    "\n",
    "        "
   ]
  },
  {
   "cell_type": "code",
   "execution_count": 47,
   "id": "14a81e9d-ec6b-4c15-bee4-7225696485e8",
   "metadata": {},
   "outputs": [
    {
     "name": "stdout",
     "output_type": "stream",
     "text": [
      "[1, 2, 3, 4, 5]\n"
     ]
    }
   ],
   "source": [
    "print_list(create_list_with_arr([1,2,3,4,5]))"
   ]
  },
  {
   "cell_type": "code",
   "execution_count": 49,
   "id": "0ae2e849-4483-4915-bbc4-86845851b4aa",
   "metadata": {},
   "outputs": [
    {
     "name": "stdout",
     "output_type": "stream",
     "text": [
      "[2, 3]\n"
     ]
    }
   ],
   "source": [
    "ListNode.print_list(Solution().deleteDuplicates(ListNode.create_list_with_arr([1, 1,2,3,4,4,4,4,5,5])))"
   ]
  },
  {
   "cell_type": "code",
   "execution_count": null,
   "id": "b19a4442-5328-40d4-a2f6-37cef190d905",
   "metadata": {},
   "outputs": [],
   "source": []
  }
 ],
 "metadata": {
  "kernelspec": {
   "display_name": "Python 3 (ipykernel)",
   "language": "python",
   "name": "python3"
  },
  "language_info": {
   "codemirror_mode": {
    "name": "ipython",
    "version": 3
   },
   "file_extension": ".py",
   "mimetype": "text/x-python",
   "name": "python",
   "nbconvert_exporter": "python",
   "pygments_lexer": "ipython3",
   "version": "3.11.5"
  }
 },
 "nbformat": 4,
 "nbformat_minor": 5
}
