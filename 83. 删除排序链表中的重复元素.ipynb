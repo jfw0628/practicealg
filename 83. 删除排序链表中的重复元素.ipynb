{
 "cells": [
  {
   "cell_type": "markdown",
   "id": "7efb9d9f-8017-4ec9-a998-6606c03b4abd",
   "metadata": {},
   "source": [
    "# 83. 删除排序链表中的重复元素\r",
    "关企业\r\n",
    "给定一个已排序的链表的头 head ， 删除所有重复的元素，使每个元素只出现一次 。返回 已排序的  链\r\n",
    "\r\n",
    " \r",
    "  \n",
    "\n",
    "示例 1：\r\n",
    "\r\n",
    "\r\n",
    "输入：hea  d = [1,1,    2]\r\n",
    "输出  ：[1,2]\r\n",
    "示例 2：\r\n",
    "\r\n",
    "\r\n",
    "输入：he   ad = [1,1,2  ,3,3]\r\n",
    "  输出：[1,2,3]\r\n",
    " \r\n",
    "\r\n",
    "提示：\r\n",
    "\r",
    "  \n",
    "链表中节点数目在范围 [0, 300] 内\r\n",
    "  -100 <= Node.val   <= 100\r\n",
    "题目数据保证链表已经按升序 排列"
   ]
  },
  {
   "cell_type": "code",
   "execution_count": 1,
   "id": "2b7ba780-0470-4c72-b6d2-176cc677be4a",
   "metadata": {},
   "outputs": [],
   "source": [
    "# Definition for singly-linked list.\n",
    "from typing import Optional\n",
    "class ListNode:\n",
    "    def __init__(self, val=0, next=None):\n",
    "        self.val = val\n",
    "        self.next = next\n",
    "        \n",
    "class Solution:\n",
    "    def deleteDuplicates(self, head: Optional[ListNode]) -> Optional[ListNode]:\n",
    "        if not head:\n",
    "            return None\n",
    "            \n",
    "        left_cur = head\n",
    "        right_cur = head.next\n",
    "\n",
    "        while right_cur:\n",
    "            if left_cur.val == right_cur.val:\n",
    "                left_cur.next = right_cur.next\n",
    "            else:\n",
    "                left_cur = left_cur.next\n",
    "                \n",
    "            right_cur = right_cur.next\n",
    "\n",
    "        return head\n",
    "            \n",
    "\n",
    "        "
   ]
  },
  {
   "cell_type": "code",
   "execution_count": 5,
   "id": "756b6ae7-3c85-4d9e-8c5d-b16b3060dfbf",
   "metadata": {},
   "outputs": [],
   "source": [
    "from list import ListNode"
   ]
  },
  {
   "cell_type": "code",
   "execution_count": 6,
   "id": "d26ea8e6-23fb-40e2-b2c6-6621d473bfac",
   "metadata": {},
   "outputs": [
    {
     "name": "stdout",
     "output_type": "stream",
     "text": [
      "[1, 2, 3, 4]\n"
     ]
    }
   ],
   "source": [
    "ListNode.print_list(ListNode.create_list_with_arr([1,2,3,4]))"
   ]
  },
  {
   "cell_type": "code",
   "execution_count": null,
   "id": "a2398b32-c521-4be4-8e81-e123fb242598",
   "metadata": {},
   "outputs": [],
   "source": []
  }
 ],
 "metadata": {
  "kernelspec": {
   "display_name": "Python 3 (ipykernel)",
   "language": "python",
   "name": "python3"
  },
  "language_info": {
   "codemirror_mode": {
    "name": "ipython",
    "version": 3
   },
   "file_extension": ".py",
   "mimetype": "text/x-python",
   "name": "python",
   "nbconvert_exporter": "python",
   "pygments_lexer": "ipython3",
   "version": "3.11.5"
  }
 },
 "nbformat": 4,
 "nbformat_minor": 5
}
