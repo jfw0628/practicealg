{
 "cells": [
  {
   "cell_type": "markdown",
   "id": "dbb3d017",
   "metadata": {},
   "source": [
    "# 70. 爬楼梯  \n",
    " \n",
    "假设你正在爬楼梯。需要 n 阶你才能到达楼顶。  \n",
    "\n",
    "每次你可以爬 1 或 2 个台阶。你有多少种不同的方法可以爬到楼顶呢？  \n",
    "\n",
    " \n",
    "\n",
    "示例 1：  \n",
    "\n",
    "输入：n = 2  \n",
    "输出：2  \n",
    "解释：有两种方法可以爬到楼顶。  \n",
    "1. 1 阶 + 1 阶  \n",
    "2. 2 阶  \n",
    "示例 2：  \n",
    "\n",
    "输入：n = 3  \n",
    "输出：3  \n",
    "解释：有三种方法可以爬到楼顶。  \n",
    "1. 1 阶 + 1 阶 + 1 阶  \n",
    "2. 1 阶 + 2 阶  \n",
    "3. 2 阶 + 1 阶  \n",
    " \n",
    "\n",
    "提示：  \n",
    "\n",
    "1 <= n <= 45  "
   ]
  },
  {
   "cell_type": "code",
   "execution_count": 8,
   "id": "6d8c1520",
   "metadata": {},
   "outputs": [],
   "source": [
    "from functools import lru_cache\n",
    "class Solution:\n",
    "    @lru_cache\n",
    "    def climbStairs(self, n: int) -> int:\n",
    "        if n in (0, 1, 2):\n",
    "            return n\n",
    "        \n",
    "        return self.climbStairs(n-1) + self.climbStairs(n-2)\n",
    "        "
   ]
  },
  {
   "cell_type": "code",
   "execution_count": 22,
   "id": "c50bd742",
   "metadata": {},
   "outputs": [
    {
     "name": "stderr",
     "output_type": "stream",
     "text": [
      "..\n",
      "----------------------------------------------------------------------\n",
      "Ran 2 tests in 0.001s\n",
      "\n",
      "OK\n"
     ]
    },
    {
     "data": {
      "text/plain": [
       "<unittest.runner.TextTestResult run=2 errors=0 failures=0>"
      ]
     },
     "execution_count": 22,
     "metadata": {},
     "output_type": "execute_result"
    }
   ],
   "source": [
    "import unittest\n",
    "\n",
    "class TestClimbStairs(unittest.TestCase):\n",
    "    def testSmallNumber(self):\n",
    "        test_stairs = [0, 1, 2]\n",
    "        solutions = [Solution().climbStairs(i) for i in test_stairs]\n",
    "        self.assertListEqual(solutions, test_stairs)\n",
    "        \n",
    "        \n",
    "    def testMoreStairs(self):\n",
    "        test_stairs = [3, 4, 6, 20]\n",
    "        solutions = [Solution().climbStairs(i) for i in test_stairs]\n",
    "        self.assertListEqual(solutions, [3, 5, 13, 10946])\n",
    "        \n",
    "\n",
    "suite = unittest.TestLoader().loadTestsFromTestCase(TestClimbStairs)\n",
    "unittest.TextTestRunner().run(suite)\n",
    "    \n"
   ]
  },
  {
   "cell_type": "code",
   "execution_count": null,
   "id": "b048d18f",
   "metadata": {},
   "outputs": [],
   "source": []
  }
 ],
 "metadata": {
  "kernelspec": {
   "display_name": "Python 3 (ipykernel)",
   "language": "python",
   "name": "python3"
  },
  "language_info": {
   "codemirror_mode": {
    "name": "ipython",
    "version": 3
   },
   "file_extension": ".py",
   "mimetype": "text/x-python",
   "name": "python",
   "nbconvert_exporter": "python",
   "pygments_lexer": "ipython3",
   "version": "3.9.12"
  }
 },
 "nbformat": 4,
 "nbformat_minor": 5
}
