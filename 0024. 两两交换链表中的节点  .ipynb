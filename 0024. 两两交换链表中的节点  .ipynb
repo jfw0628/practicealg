{
 "cells": [
  {
   "cell_type": "markdown",
   "id": "9f9c70ee",
   "metadata": {},
   "source": [
    "24. 两两交换链表中的节点  \n",
    "\n",
    "给你一个链表，两两交换其中相邻的节点，并返回交换后链表的头节点。你必须在不修改节点内部的值的情况下完成本题（即，只能进行节点交换）。  \n",
    "\n",
    " \n",
    "\n",
    "示例 1：  \n",
    "\n",
    "\n",
    "输入：head = [1,2,3,4]  \n",
    "输出：[2,1,4,3]  \n",
    "示例 2：  \n",
    "\n",
    "输入：head = []  \n",
    "输出：[]  \n",
    "示例 3：  \n",
    "\n",
    "输入：head = [1]  \n",
    "输出：[1]  \n",
    "  \n",
    "\n",
    "提示：  \n",
    "\n",
    "链表中节点的数目在范围 [0, 100] 内  \n",
    "0 <= Node.val <= 100  "
   ]
  },
  {
   "cell_type": "code",
   "execution_count": 8,
   "id": "5f646f1d",
   "metadata": {},
   "outputs": [],
   "source": [
    "from list_utils import ListNode\n",
    "from typing import Optional\n",
    "import unittest"
   ]
  },
  {
   "cell_type": "code",
   "execution_count": 9,
   "id": "189e25a2",
   "metadata": {},
   "outputs": [],
   "source": [
    "# Definition for singly-linked list.\n",
    "# class ListNode:\n",
    "#     def __init__(self, val=0, next=None):\n",
    "#         self.val = val\n",
    "#         self.next = next\n",
    "class Solution:\n",
    "    def swapPairs(self, head: Optional[ListNode]) -> Optional[ListNode]:\n",
    "        pre_cursor = dummy = ListNode()\n",
    "        cursor = head\n",
    "         \n",
    "        count = 0\n",
    "        while cursor:\n",
    "            if cursor.next:\n",
    "                next_next_cursor = cursor.next.next\n",
    "                \n",
    "                # adjust the cursor \n",
    "                pre_cursor.next = cursor.next\n",
    "                cursor.next.next = cursor\n",
    "                cursor.next = next_next_cursor\n",
    "                \n",
    "                # move to next two paris\n",
    "                pre_cursor = cursor\n",
    "                cursor = next_next_cursor\n",
    "            \n",
    "            else:\n",
    "                pre_cursor.next = cursor\n",
    "                break\n",
    "        \n",
    "        \n",
    "        return dummy.next\n",
    "            "
   ]
  },
  {
   "cell_type": "code",
   "execution_count": 16,
   "id": "c56beb24",
   "metadata": {},
   "outputs": [
    {
     "name": "stderr",
     "output_type": "stream",
     "text": [
      ".....\n",
      "----------------------------------------------------------------------\n",
      "Ran 5 tests in 0.002s\n",
      "\n",
      "OK\n"
     ]
    },
    {
     "data": {
      "text/plain": [
       "<unittest.runner.TextTestResult run=5 errors=0 failures=0>"
      ]
     },
     "execution_count": 16,
     "metadata": {},
     "output_type": "execute_result"
    }
   ],
   "source": [
    "from list_utils import List\n",
    "\n",
    "\n",
    "class TestSwapPairs(unittest.TestCase):\n",
    "    def testEmptyList(self):\n",
    "        res = Solution().swapPairs([])\n",
    "        self.assertEqual(List(res), List(None))\n",
    "        \n",
    "    def testOneNode(self):\n",
    "        node = ListNode.create_list_with_arr([1])\n",
    "        res = Solution().swapPairs(node)\n",
    "        self.assertEqual(List(res), List.create_list_with_arr([1]))\n",
    "        \n",
    "        node = ListNode.create_list_with_arr([2])\n",
    "        res = Solution().swapPairs(node)\n",
    "        self.assertEqual(List(res), List.create_list_with_arr([2]))\n",
    "        \n",
    "    def testTwoNodes(self):\n",
    "        node = ListNode.create_list_with_arr([1, 2])\n",
    "        res = Solution().swapPairs(node)\n",
    "        self.assertEqual(List(res), List.create_list_with_arr([2, 1]))\n",
    "        \n",
    "        node = ListNode.create_list_with_arr([3, 5])\n",
    "        res = Solution().swapPairs(node)\n",
    "        self.assertEqual(List(res), List.create_list_with_arr([5, 3]))\n",
    "    \n",
    "    def testThreeNodes(self):\n",
    "        node = ListNode.create_list_with_arr([1, 2, 3])\n",
    "        res = Solution().swapPairs(node)\n",
    "        self.assertEqual(List(res), List.create_list_with_arr([2, 1, 3]))\n",
    "        \n",
    "        node = ListNode.create_list_with_arr([3, 5, 7])\n",
    "        res = Solution().swapPairs(node)\n",
    "        self.assertEqual(List(res), List.create_list_with_arr([5, 3, 7]))\n",
    "    \n",
    "    def testMultiNodes(self):\n",
    "        node = ListNode.create_list_with_arr([1, 2, 3, 4, 5, 6])\n",
    "        res = Solution().swapPairs(node)\n",
    "        self.assertEqual(List(res), List.create_list_with_arr([2, 1, 4, 3, 6, 5]))\n",
    "        \n",
    "        node = ListNode.create_list_with_arr([3, 5, 7, 9, 11, 13, 15])\n",
    "        res = Solution().swapPairs(node)\n",
    "        self.assertEqual(List(res), List.create_list_with_arr([5, 3, 9, 7, 13, 11, 15]))\n",
    "        \n",
    "suite = unittest.TestLoader().loadTestsFromTestCase(TestSwapPairs)\n",
    "unittest.TextTestRunner().run(suite)\n",
    "        "
   ]
  },
  {
   "cell_type": "code",
   "execution_count": null,
   "id": "af35490c",
   "metadata": {},
   "outputs": [],
   "source": []
  },
  {
   "cell_type": "code",
   "execution_count": 17,
   "id": "335c669c",
   "metadata": {},
   "outputs": [],
   "source": [
    "from list_utils import ListNode"
   ]
  },
  {
   "cell_type": "code",
   "execution_count": 18,
   "id": "9eb1f169",
   "metadata": {},
   "outputs": [],
   "source": [
    "a_list = List.create_list_with_arr([1, 2,3,4,5,6])"
   ]
  },
  {
   "cell_type": "code",
   "execution_count": 19,
   "id": "a695eb95",
   "metadata": {},
   "outputs": [
    {
     "name": "stdout",
     "output_type": "stream",
     "text": [
      "[1, 2, 3, 4, 5, 6]\n"
     ]
    }
   ],
   "source": [
    "a_list.print_list()"
   ]
  },
  {
   "cell_type": "code",
   "execution_count": null,
   "id": "4144dd67",
   "metadata": {},
   "outputs": [],
   "source": []
  }
 ],
 "metadata": {
  "kernelspec": {
   "display_name": "Python 3 (ipykernel)",
   "language": "python",
   "name": "python3"
  },
  "language_info": {
   "codemirror_mode": {
    "name": "ipython",
    "version": 3
   },
   "file_extension": ".py",
   "mimetype": "text/x-python",
   "name": "python",
   "nbconvert_exporter": "python",
   "pygments_lexer": "ipython3",
   "version": "3.9.12"
  }
 },
 "nbformat": 4,
 "nbformat_minor": 5
}
