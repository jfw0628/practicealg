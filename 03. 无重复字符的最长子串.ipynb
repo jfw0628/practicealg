{
 "cells": [
  {
   "cell_type": "markdown",
   "id": "e3bbbd40",
   "metadata": {},
   "source": [
    "3. 无重复字符的最长子串\n",
    "中等\n",
    "9.9K\n",
    "相关企业\n",
    "给定一个字符串 s ，请你找出其中不含有重复字符的 最长子串 的长度。\n",
    "\n",
    " \n",
    "\n",
    "示例 1:\n",
    "\n",
    "输入: s = \"abcabcbb\"\n",
    "输出: 3 \n",
    "解释: 因为无重复字符的最长子串是 \"abc\"，所以其长度为 3。\n",
    "示例 2:\n",
    "\n",
    "输入: s = \"bbbbb\"\n",
    "输出: 1\n",
    "解释: 因为无重复字符的最长子串是 \"b\"，所以其长度为 1。\n",
    "示例 3:\n",
    "\n",
    "输入: s = \"pwwkew\"\n",
    "输出: 3\n",
    "解释: 因为无重复字符的最长子串是 \"wke\"，所以其长度为 3。\n",
    "     请注意，你的答案必须是 子串 的长度，\"pwke\" 是一个子序列，不是子串。\n",
    " \n",
    "\n",
    "提示：\n",
    "\n",
    "0 <= s.length <= 5 * 104\n",
    "s 由英文字母、数字、符号和空格组成"
   ]
  },
  {
   "cell_type": "code",
   "execution_count": 1,
   "id": "077ea341",
   "metadata": {},
   "outputs": [],
   "source": [
    "class Solution:\n",
    "    def lengthOfLongestSubstring(self, s: str) -> int:\n",
    "        long_str = ''\n",
    "        longest_list = []\n",
    "        longest_set = set()\n",
    "\n",
    "        for char in s:\n",
    "            if char not in longest_set:\n",
    "                longest_list.append(char)\n",
    "                longest_set.add(char)\n",
    "            else:\n",
    "                if len(longest_list) > len(long_str):\n",
    "                    long_str = ''.join(longest_list)\n",
    "                \n",
    "                index = longest_list.index(char)\n",
    "                for i in longest_list[:index+1]:\n",
    "                    longest_set.remove(i)\n",
    "                longest_list = longest_list[index+1:]\n",
    "                longest_list.append(char)\n",
    "                longest_set.add(char)\n",
    "\n",
    "        return len(longest_list) if len(longest_list) > len(long_str) else len(long_str)"
   ]
  },
  {
   "cell_type": "code",
   "execution_count": null,
   "id": "cffb3d10",
   "metadata": {},
   "outputs": [],
   "source": []
  }
 ],
 "metadata": {
  "kernelspec": {
   "display_name": "Python 3 (ipykernel)",
   "language": "python",
   "name": "python3"
  },
  "language_info": {
   "codemirror_mode": {
    "name": "ipython",
    "version": 3
   },
   "file_extension": ".py",
   "mimetype": "text/x-python",
   "name": "python",
   "nbconvert_exporter": "python",
   "pygments_lexer": "ipython3",
   "version": "3.9.12"
  }
 },
 "nbformat": 4,
 "nbformat_minor": 5
}
