{
 "cells": [
  {
   "cell_type": "markdown",
   "id": "ae57d375",
   "metadata": {},
   "source": [
    "12. 整数转罗马数字\n",
    "\n",
    "罗马数字包含以下七种字符： I， V， X， L，C，D 和 M。  \n",
    "\n",
    "字符          数值  \n",
    "I             1  \n",
    "V             5  \n",
    "X             10  \n",
    "L             50  \n",
    "C             100  \n",
    "D             500  \n",
    "M             1000  \n",
    "例如， 罗马数字 2 写做 II ，即为两个并列的 1。12 写做 XII ，即为 X + II 。 27 写做  XXVII, 即为 XX + V + II 。  \n",
    "\n",
    "通常情况下，罗马数字中小的数字在大的数字的右边。但也存在特例，例如 4 不写做 IIII，而是 IV。数字 1 在数字 5 的左边，所表示的数等于大数 5 减小数 1 得到的数值 4 。同样地，数字 9 表示为 IX。这个特殊的规则只适用于以下六种情况：  \n",
    "\n",
    "I 可以放在 V (5) 和 X (10) 的左边，来表示 4 和 9。  \n",
    "X 可以放在 L (50) 和 C (100) 的左边，来表示 40 和 90。   \n",
    "C 可以放在 D (500) 和 M (1000) 的左边，来表示 400 和 900。   \n",
    "给你一个整数，将其转为罗马数字。  \n",
    "\n",
    " \n",
    "\n",
    "示例 1:  \n",
    "  \n",
    "输入: num = 3  \n",
    "输出: \"III\"  \n",
    "示例 2:  \n",
    "\n",
    "输入: num = 4  \n",
    "输出: \"IV\"  \n",
    "示例 3:  \n",
    "\n",
    "输入: num = 9  \n",
    "输出: \"IX\"  \n",
    "示例 4:  \n",
    "\n",
    "输入: num = 58  \n",
    "输出: \"LVIII\"  \n",
    "解释: L = 50, V = 5, III = 3.  \n",
    "示例 5:  \n",
    "\n",
    "输入: num = 1994  \n",
    "输出: \"MCMXCIV\"  \n",
    "解释: M = 1000, CM = 900, XC = 90, IV = 4.  \n",
    " \n",
    "\n",
    "提示：  \n",
    "  \n",
    "1 <= num <= 3999  \n"
   ]
  },
  {
   "cell_type": "code",
   "execution_count": 18,
   "id": "46adebd3",
   "metadata": {},
   "outputs": [],
   "source": [
    "class Solution:\n",
    "    def intToRoman(self, num: int) -> str:\n",
    "        KEY = [1000, 900, 500, 400, 100, 90, 50, 40, 10, 9, 5, 4, 1]\n",
    "        RSTRS = ['M', 'CM', 'D', \"CD\", 'C', 'XC', 'L', 'XL', 'X', 'IX', 'V', 'IV', 'I']\n",
    "        \n",
    "        res = ''\n",
    "        for key, rstr in zip(KEY, RSTRS):\n",
    "            if num // key:\n",
    "                res += rstr * (num // key)\n",
    "                num = num % key\n",
    "                \n",
    "        return res"
   ]
  },
  {
   "cell_type": "code",
   "execution_count": 20,
   "id": "3eada11d",
   "metadata": {},
   "outputs": [
    {
     "data": {
      "text/plain": [
       "'MMMCMXCIV'"
      ]
     },
     "execution_count": 20,
     "metadata": {},
     "output_type": "execute_result"
    }
   ],
   "source": [
    "Solution().intToRoman(3994)"
   ]
  },
  {
   "cell_type": "code",
   "execution_count": 14,
   "id": "cd2a190c",
   "metadata": {},
   "outputs": [
    {
     "data": {
      "text/plain": [
       "1"
      ]
     },
     "execution_count": 14,
     "metadata": {},
     "output_type": "execute_result"
    }
   ],
   "source": [
    "1001 // 1000"
   ]
  },
  {
   "cell_type": "code",
   "execution_count": 15,
   "id": "ba18b6b6",
   "metadata": {},
   "outputs": [
    {
     "data": {
      "text/plain": [
       "1.001"
      ]
     },
     "execution_count": 15,
     "metadata": {},
     "output_type": "execute_result"
    }
   ],
   "source": [
    "1001 / 1000"
   ]
  },
  {
   "cell_type": "code",
   "execution_count": null,
   "id": "e467b113",
   "metadata": {},
   "outputs": [],
   "source": []
  }
 ],
 "metadata": {
  "kernelspec": {
   "display_name": "Python 3 (ipykernel)",
   "language": "python",
   "name": "python3"
  },
  "language_info": {
   "codemirror_mode": {
    "name": "ipython",
    "version": 3
   },
   "file_extension": ".py",
   "mimetype": "text/x-python",
   "name": "python",
   "nbconvert_exporter": "python",
   "pygments_lexer": "ipython3",
   "version": "3.9.12"
  }
 },
 "nbformat": 4,
 "nbformat_minor": 5
}
