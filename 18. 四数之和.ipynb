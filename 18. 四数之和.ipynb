{
 "cells": [
  {
   "cell_type": "markdown",
   "id": "adf06f87-fd59-4202-a8ca-1ea6d2b545a0",
   "metadata": {},
   "source": [
    "# 18. 四数之和\r",
    "关企业\r\n",
    "给你一个由 n 个整数组成的数组 nums ，和一个目标值 target 。请你找出并返回满足下述全部条件且不重复的四元组 [nums[a], nums[b], nums[c], nums[d]] （若两个四元组元素一一对应，则认为两个四元组  重复）：\r\n",
    "\r\n",
    "0 <= a, b, c,   d < n\r\n",
    "a、b、c 和    d 互不相同\r\n",
    "nums[a] + nums[b] + nums[c] + nums[d] =  = target\r\n",
    "你可以按 任意  顺序 返回答案 。\r",
    "  \n",
    "\r\n",
    " \r\n",
    "\r\n",
    "示例 1：\r\n",
    "\r\n",
    "输入：nums = [1,0,-1,0,-2  ,2], target = 0\r\n",
    "输出：[[-2,-1,1,2],[-2,0,   0,2],[  -1,0,0,1]]\r\n",
    "示例 2：\r\n",
    "\r\n",
    "输入：nums = [2,2  ,2,2,2], target   = 8\r\n",
    "输  出：[[2,2,2,2]]\r\n",
    " \r\n",
    "\r\n",
    "提示：\r\n",
    "  \r\n",
    "1 <= nums.length <= 2  00\r\n",
    "-109 <= nums[i] <=   109\r\n",
    "-109 <= target <= 109\r\n"
   ]
  },
  {
   "cell_type": "code",
   "execution_count": 10,
   "id": "e02c2d21-b08e-45fb-865d-f888fddf6ce1",
   "metadata": {},
   "outputs": [],
   "source": [
    "from typing import List"
   ]
  },
  {
   "cell_type": "code",
   "execution_count": 38,
   "id": "b291bfa9-9c74-4d5a-82e4-13f14bdb6c3e",
   "metadata": {},
   "outputs": [],
   "source": [
    "class Solution:\n",
    "    def fourSum(self, nums: List[int], target: int) -> List[List[int]]:\n",
    "        res = []\n",
    "        if len(nums) < 4:\n",
    "            return res\n",
    "\n",
    "        nums.sort()\n",
    "        for left_cur in range(len(nums) - 3):\n",
    "            for right_cur in range(len(nums) - 1, left_cur + 2,  -1):\n",
    "                mid_left_cur = left_cur + 1\n",
    "                mid_right_cur = right_cur - 1\n",
    "                while mid_left_cur < mid_right_cur:\n",
    "                    #print(left_cur, mid_left_cur, mid_right_cur, right_cur)\n",
    "                    total = nums[left_cur] + nums[right_cur] + nums[mid_left_cur] + nums[mid_right_cur]\n",
    "                    if total == target:\n",
    "                        a_res = [nums[left_cur], nums[mid_left_cur], nums[mid_right_cur], nums[right_cur]]\n",
    "                        if a_res not in res:\n",
    "                            res.append(a_res)\n",
    "                        mid_right_cur -= 1\n",
    "    \n",
    "                    elif total > target:\n",
    "                        mid_right_cur -= 1\n",
    "                    else:\n",
    "                        mid_left_cur += 1\n",
    "\n",
    "        return res\n",
    "                \n",
    "                    \n",
    "\n",
    "                \n",
    "            \n",
    "\n",
    "         "
   ]
  },
  {
   "cell_type": "code",
   "execution_count": 33,
   "id": "48696327-3307-4dde-b74d-d36e736b0ba2",
   "metadata": {},
   "outputs": [
    {
     "name": "stdout",
     "output_type": "stream",
     "text": [
      "0 1 7 8\n",
      "0 2 7 8\n",
      "0 3 7 8\n",
      "0 4 7 8\n",
      "0 5 7 8\n",
      "0 6 7 8\n",
      "0 1 6 7\n",
      "0 2 6 7\n",
      "0 3 6 7\n",
      "0 4 6 7\n",
      "0 5 6 7\n",
      "0 1 5 6\n",
      "0 2 5 6\n",
      "0 3 5 6\n",
      "0 4 5 6\n",
      "0 1 4 5\n",
      "0 2 4 5\n",
      "0 3 4 5\n",
      "0 1 3 4\n",
      "0 2 3 4\n",
      "0 1 2 3\n",
      "1 2 7 8\n",
      "1 3 7 8\n",
      "1 4 7 8\n",
      "1 5 7 8\n",
      "1 6 7 8\n",
      "1 2 6 7\n",
      "1 3 6 7\n",
      "1 4 6 7\n",
      "1 5 6 7\n",
      "1 2 5 6\n",
      "1 3 5 6\n",
      "1 4 5 6\n",
      "1 2 4 5\n",
      "1 3 4 5\n",
      "1 2 3 4\n",
      "2 3 7 8\n",
      "2 4 7 8\n",
      "2 5 7 8\n",
      "2 6 7 8\n",
      "2 3 6 7\n",
      "2 4 6 7\n",
      "2 5 6 7\n",
      "2 3 5 6\n",
      "2 4 5 6\n",
      "2 3 4 5\n",
      "3 4 7 8\n",
      "3 5 7 8\n",
      "3 6 7 8\n",
      "3 4 6 7\n",
      "3 5 6 7\n",
      "3 4 5 6\n",
      "4 5 7 8\n",
      "4 6 7 8\n",
      "4 5 6 7\n",
      "5 6 7 8\n"
     ]
    },
    {
     "data": {
      "text/plain": [
       "[[1, 2, 3, 4]]"
      ]
     },
     "execution_count": 33,
     "metadata": {},
     "output_type": "execute_result"
    }
   ],
   "source": [
    "Solution().fourSum([1,2,3,4,5,6,7,9,10], 10)"
   ]
  },
  {
   "cell_type": "code",
   "execution_count": 34,
   "id": "2044489b-094a-45ef-91aa-0a422277bc2c",
   "metadata": {},
   "outputs": [
    {
     "name": "stdout",
     "output_type": "stream",
     "text": [
      "4\n"
     ]
    }
   ],
   "source": [
    "for i in range(5 - 1, 1 + 2, -1):\n",
    "    print(i)"
   ]
  },
  {
   "cell_type": "code",
   "execution_count": 39,
   "id": "4506cef3-e473-4649-82b8-58195d944c63",
   "metadata": {},
   "outputs": [
    {
     "name": "stdout",
     "output_type": "stream",
     "text": [
      "[-2, -1, 0, 0, 1, 2]\n",
      "0 1 4 5\n",
      "0 1 3 5\n",
      "0 2 3 5\n",
      "0 1 3 4\n",
      "0 2 3 4\n",
      "0 1 2 3\n",
      "1 2 4 5\n",
      "1 2 3 5\n",
      "1 2 3 4\n",
      "2 3 4 5\n"
     ]
    },
    {
     "data": {
      "text/plain": [
       "[[-2, -1, 1, 2], [-2, 0, 0, 2], [-1, 0, 0, 1]]"
      ]
     },
     "execution_count": 39,
     "metadata": {},
     "output_type": "execute_result"
    }
   ],
   "source": [
    "Solution().fourSum([1,0,-1,0,-2,2], 0)"
   ]
  },
  {
   "cell_type": "code",
   "execution_count": 40,
   "id": "c78ea55a-68b9-4323-951d-a208b451cda2",
   "metadata": {},
   "outputs": [
    {
     "name": "stdout",
     "output_type": "stream",
     "text": [
      "[2, 2, 2, 2, 2, 2]\n",
      "0 1 4 5\n",
      "0 1 3 5\n",
      "0 1 2 5\n",
      "0 1 3 4\n",
      "0 1 2 4\n",
      "0 1 2 3\n",
      "1 2 4 5\n",
      "1 2 3 5\n",
      "1 2 3 4\n",
      "2 3 4 5\n"
     ]
    },
    {
     "data": {
      "text/plain": [
       "[[2, 2, 2, 2]]"
      ]
     },
     "execution_count": 40,
     "metadata": {},
     "output_type": "execute_result"
    }
   ],
   "source": [
    "Solution().fourSum([2,2,2,2,2,2], 8)"
   ]
  },
  {
   "cell_type": "code",
   "execution_count": null,
   "id": "c1b57251-6215-435d-bf4b-513a3724b0b6",
   "metadata": {},
   "outputs": [],
   "source": []
  }
 ],
 "metadata": {
  "kernelspec": {
   "display_name": "Python 3 (ipykernel)",
   "language": "python",
   "name": "python3"
  },
  "language_info": {
   "codemirror_mode": {
    "name": "ipython",
    "version": 3
   },
   "file_extension": ".py",
   "mimetype": "text/x-python",
   "name": "python",
   "nbconvert_exporter": "python",
   "pygments_lexer": "ipython3",
   "version": "3.11.5"
  }
 },
 "nbformat": 4,
 "nbformat_minor": 5
}
