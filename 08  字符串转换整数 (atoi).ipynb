{
 "cells": [
  {
   "cell_type": "markdown",
   "id": "a3f10c5d",
   "metadata": {},
   "source": [
    "8. 字符串转换整数 (atoi)\n",
    "\n",
    "请你来实现一个 myAtoi(string s) 函数，使其能将字符串转换成一个 32 位有符号整数（类似 C/C++ 中的 atoi 函数）。  \n",
    "\n",
    "函数 myAtoi(string s) 的算法如下：  \n",
    " \n",
    "读入字符串并丢弃无用的前导空格  \n",
    "检查下一个字符（假设还未到字符末尾）为正还是负号，读取该字符（如果有）。 确定最终结果是负数还是正数。 如果两者都不存在，则假定结果为正。  \n",
    "读入下一个字符，直到到达下一个非数字字符或到达输入的结尾。字符串的其余部分将被忽略。  \n",
    "将前面步骤读入的这些数字转换为整数（即，\"123\" -> 123， \"0032\" -> 32）。如果没有读入数字，则整数为 0 。必要时更改符号（从步骤 2 开  始）。  \n",
    "如果整数数超过 32 位有符号整数范围 [−2^31,  2^31 − 1] ，需要截断这个整数，使其保持在这个范围内。具体来说，小于 −231 的整数应该被固定为 −231 ，大于 231 − 1 的整数应该被固定为 231 − 1 。  \n",
    "返回整数作为最终结果。  \n",
    "注意：  \n",
    "\n",
    "本题中的空白字符只包括空格字符 ' ' 。  \n",
    "除前导空格或数字后的其余字符串外，请勿忽略 任何其他字符。  \n",
    " \n",
    "\n",
    "示例 1：  \n",
    "\n",
    "输入：s = \"42\"  \n",
    "输出：42  \n",
    "解释：加粗的字符串为已经读入的字符，插入符号是当前读取的字符。  \n",
    "第 1 步：\"42\"（当前没有读入字符，因为没有前导空格）  \n",
    "         ^  \n",
    "第 2 步：\"42\"（当前没有读入字符，因为这里不存在 '-' 或者 '+'）  \n",
    "         ^  \n",
    "第 3 步：\"42\"（读入 \"42\"）  \n",
    "           ^  \n",
    "解析得到整数 42 。  \n",
    "由于 \"42\" 在范围 [-2^31, 2^31 - 1] 内，最终结果为 42 。  \n",
    "示例 2：  \n",
    "  \n",
    "输入：s = \"   -42\"  \n",
    "输出：-42  \n",
    "解释：  \n",
    "第 1 步：\"   -42\"（读入前导空格，但忽视掉）  \n",
    "            ^  \n",
    "第 2 步：\"   -42\"（读入 '-' 字符，所以结果应该是负数）  \n",
    "             ^  \n",
    "第 3 步：\"   -42\"（读入 \"42\"）  \n",
    "               ^  \n",
    "解析得到整数 -42 。  \n",
    "由于 \"-42\" 在范围 [-2^31, 2^31 - 1] 内，最终结果为 -42 。  \n",
    "示例 3：  \n",
    "  \n",
    "输入：s = \"4193 with words\"  \n",
    "输出：4193  \n",
    "解释：  \n",
    "第 1 步：\"4193 with words\"（当前没有读入字符，因为没有前导空格）  \n",
    "         ^  \n",
    "第 2 步：\"4193 with words\"（当前没有读入字符，因为这里不存在 '-' 或者 '+'）  \n",
    "         ^  \n",
    "第 3 步：\"4193 with words\"（读入 \"4193\"；由于下一个字符不是一个数字，所以读入停止）  \n",
    "             ^  \n",
    "解析得到整数 4193 。  \n",
    "由于 \"4193\" 在范围 [-2^31, 2^31 - 1] 内，最终结果为 4193 。  \n",
    "   \n",
    "\n",
    "提示：  \n",
    "  \n",
    "0 <= s.length <= 200  \n",
    "s 由英文字母（大写和小写）、数字（0-9）、' '、'+'、'-' 和 '.' 组成  "
   ]
  },
  {
   "cell_type": "code",
   "execution_count": 2,
   "id": "0c77eb6a",
   "metadata": {},
   "outputs": [
    {
     "ename": "TypeError",
     "evalue": "an integer is required (got type str)",
     "output_type": "error",
     "traceback": [
      "\u001b[0;31m---------------------------------------------------------------------------\u001b[0m",
      "\u001b[0;31mTypeError\u001b[0m                                 Traceback (most recent call last)",
      "Input \u001b[0;32mIn [2]\u001b[0m, in \u001b[0;36m<cell line: 1>\u001b[0;34m()\u001b[0m\n\u001b[0;32m----> 1\u001b[0m \u001b[38;5;28;43mchr\u001b[39;49m\u001b[43m(\u001b[49m\u001b[38;5;124;43m'\u001b[39;49m\u001b[38;5;124;43m1\u001b[39;49m\u001b[38;5;124;43m'\u001b[39;49m\u001b[43m)\u001b[49m\n",
      "\u001b[0;31mTypeError\u001b[0m: an integer is required (got type str)"
     ]
    }
   ],
   "source": [
    "chr('1')"
   ]
  },
  {
   "cell_type": "code",
   "execution_count": 47,
   "id": "8750cc77",
   "metadata": {},
   "outputs": [],
   "source": [
    "class Solution:\n",
    "    def myAtoi(self, s: str) -> int:\n",
    "        valid_num = {'1', '2', '3', '4', '5',  '6', '7', '8',  '9', '0'}\n",
    "        valid_sign = {' ', '-', '+'}\n",
    "        \n",
    "        first_flag = True\n",
    "        sign = 1\n",
    "        \n",
    "        res = 0\n",
    "        for char in s:\n",
    "            if not (char in valid_num or (char in valid_sign and first_flag)):\n",
    "                break\n",
    "                            \n",
    "            if char == ' ':\n",
    "                continue\n",
    "                \n",
    "            if char == '-':\n",
    "                sign = -1 \n",
    "                first_flag = False\n",
    "                continue\n",
    "                \n",
    "            if char == '+' and first_flag:\n",
    "                sign = 1\n",
    "                first_flag = False\n",
    "                continue\n",
    "                \n",
    "            \n",
    "            first_flag = False\n",
    "            res = res * 10 + int(char) \n",
    "            \n",
    "        res = res * sign\n",
    "        res = res if res > -2**31 else -2**31\n",
    "        res = res if res < 2**31 - 1 else 2**31 - 1\n",
    "        return res\n",
    "                \n",
    "            \n",
    "            \n",
    "        "
   ]
  },
  {
   "cell_type": "code",
   "execution_count": 51,
   "id": "7043042b",
   "metadata": {},
   "outputs": [
    {
     "data": {
      "text/plain": [
       "0"
      ]
     },
     "execution_count": 51,
     "metadata": {},
     "output_type": "execute_result"
    }
   ],
   "source": [
    "Solution().myAtoi(\"   +0 123\")"
   ]
  },
  {
   "cell_type": "code",
   "execution_count": 12,
   "id": "3a312dd0",
   "metadata": {},
   "outputs": [
    {
     "data": {
      "text/plain": [
       "-2147483648"
      ]
     },
     "execution_count": 12,
     "metadata": {},
     "output_type": "execute_result"
    }
   ],
   "source": [
    "-2**31"
   ]
  },
  {
   "cell_type": "code",
   "execution_count": null,
   "id": "7f5e7ed3",
   "metadata": {},
   "outputs": [],
   "source": []
  }
 ],
 "metadata": {
  "kernelspec": {
   "display_name": "Python 3 (ipykernel)",
   "language": "python",
   "name": "python3"
  },
  "language_info": {
   "codemirror_mode": {
    "name": "ipython",
    "version": 3
   },
   "file_extension": ".py",
   "mimetype": "text/x-python",
   "name": "python",
   "nbconvert_exporter": "python",
   "pygments_lexer": "ipython3",
   "version": "3.9.12"
  }
 },
 "nbformat": 4,
 "nbformat_minor": 5
}
