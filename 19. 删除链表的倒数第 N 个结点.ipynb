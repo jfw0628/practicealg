{
 "cells": [
  {
   "cell_type": "markdown",
   "id": "1daaefe7-9a00-4888-b5e4-437f09927d4c",
   "metadata": {},
   "source": [
    "# 19. 删除链表的倒数第 N 个结点\r\n",
    "提示\r\n",
    "中等\r\n",
    "2.8K\r\n",
    "相关企业\r\n",
    "给你一个链表，删除链表的倒数第 n 个结点，并且返回链表的头结点。\r\n",
    "\r\n",
    " \r\n",
    "\r\n",
    "示例 1：\r\n",
    "\r\n",
    "\r\n",
    "输入：head = [1,2,3,4,5], n = 2\r\n",
    "输出：[1,2,3,5]\r\n",
    "示例 2：\r\n",
    "\r\n",
    "输入：head = [1], n = 1\r\n",
    "输出：[]\r\n",
    "示例 3：\r\n",
    "\r\n",
    "输入：head = [1,2], n = 1\r\n",
    "输出：[1]  \r\n",
    " \r\n",
    "\r\n",
    "提示：\r\n",
    "\r\n",
    "  链表中结点的数目为 sz\r\n",
    "1 <= sz   <= 30\r\n",
    "0 <=   Node.val <= 100\r\n",
    "1 <= n <= sz\r\n",
    " \r\n",
    "\r\n",
    "进阶：你能尝试使用一趟扫描实现吗？"
   ]
  },
  {
   "cell_type": "code",
   "execution_count": 3,
   "id": "4b92cbb3-5b59-4238-9ec6-e17f19ea55c8",
   "metadata": {},
   "outputs": [],
   "source": [
    "from typing import Optional"
   ]
  },
  {
   "cell_type": "code",
   "execution_count": 6,
   "id": "3e052efd-87f7-4c25-a5ba-9f1dbe14b738",
   "metadata": {},
   "outputs": [],
   "source": [
    "# Definition for singly-linked list.\n",
    "class ListNode:\n",
    "    def __init__(self, val=0, next=None):\n",
    "        self.val = val\n",
    "        self.next = next\n",
    "        \n",
    "class Solution:\n",
    "    def removeNthFromEnd(self, head: Optional[ListNode], n: int) -> Optional[ListNode]:\n",
    "        cur_node = head\n",
    "        n_node = head\n",
    "        \n",
    "        mis_match_count = n\n",
    "\n",
    "        while cur_node.next:\n",
    "            if mis_match_count == 0:\n",
    "                n_node = n_node.next\n",
    "            else:\n",
    "                mis_match_count -= 1\n",
    "            cur_node = cur_node.next\n",
    "\n",
    "        if mis_match_count == 0:\n",
    "            n_node.next = n_node.next.next\n",
    "            return head\n",
    "        else:\n",
    "            return head.next\n",
    "            \n",
    "\n",
    "    \n"
   ]
  },
  {
   "cell_type": "code",
   "execution_count": 14,
   "id": "f4850a59-ab17-4816-9e8b-4a743058d8ce",
   "metadata": {},
   "outputs": [],
   "source": [
    "class Solution:\n",
    "    def removeNthFromEnd(self, head: Optional[ListNode], n: int) -> Optional[ListNode]:\n",
    "        left = right = dummy = ListNode(next=head)\n",
    "        for _ in range(n):\n",
    "            right = right.next\n",
    "        while right.next:\n",
    "            left = left.next\n",
    "            right = right.next\n",
    "        left.next = left.next.next\n",
    "        print_list(dummy)\n",
    "        return dummy.next\n"
   ]
  },
  {
   "cell_type": "code",
   "execution_count": 12,
   "id": "58183ead-315c-4533-b0d1-a43fe3796f0f",
   "metadata": {},
   "outputs": [],
   "source": [
    "def create_list_with_array(arr):\n",
    "    if not arr:\n",
    "        return None\n",
    "    head = ListNode(arr[0], None)\n",
    "    current_node = head\n",
    "    for i in arr[1:]:\n",
    "        current_node.next = ListNode(i, None)\n",
    "        current_node = current_node.next\n",
    "\n",
    "    return head\n",
    "\n",
    "def print_list(head):\n",
    "    iterator = head\n",
    "    value = []\n",
    "    while iterator:\n",
    "        value.append(iterator.val)\n",
    "        iterator = iterator.next\n",
    "\n",
    "    print(value)\n",
    "        \n",
    "        \n",
    "        \n",
    "        \n",
    "        \n",
    "        "
   ]
  },
  {
   "cell_type": "code",
   "execution_count": 13,
   "id": "b3078c29-c21d-4397-85dc-0dc74045f52a",
   "metadata": {},
   "outputs": [
    {
     "name": "stdout",
     "output_type": "stream",
     "text": [
      "[1, 2, 3, 5]\n"
     ]
    }
   ],
   "source": [
    "head = create_list_with_array([1,2,3,5])\n",
    "print_list(head)"
   ]
  },
  {
   "cell_type": "code",
   "execution_count": 18,
   "id": "10fb4d74-803f-49b6-be7f-c319072c5438",
   "metadata": {},
   "outputs": [
    {
     "name": "stdout",
     "output_type": "stream",
     "text": [
      "[2, 3, 4]\n"
     ]
    }
   ],
   "source": [
    "nhead = Solution().removeNthFromEnd(create_list_with_array([1,2,3,4]), 4)\n",
    "print_list(nhead)"
   ]
  },
  {
   "cell_type": "code",
   "execution_count": null,
   "id": "ca180875-02fa-4ea6-9825-4b16fb8018ff",
   "metadata": {},
   "outputs": [],
   "source": []
  }
 ],
 "metadata": {
  "kernelspec": {
   "display_name": "Python 3 (ipykernel)",
   "language": "python",
   "name": "python3"
  },
  "language_info": {
   "codemirror_mode": {
    "name": "ipython",
    "version": 3
   },
   "file_extension": ".py",
   "mimetype": "text/x-python",
   "name": "python",
   "nbconvert_exporter": "python",
   "pygments_lexer": "ipython3",
   "version": "3.11.5"
  }
 },
 "nbformat": 4,
 "nbformat_minor": 5
}
