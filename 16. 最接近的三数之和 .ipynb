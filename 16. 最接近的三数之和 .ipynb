{
 "cells": [
  {
   "cell_type": "markdown",
   "id": "582c643a",
   "metadata": {},
   "source": [
    "16. 最接近的三数之和  \n",
    "\n",
    "给你一个长度为 n 的整数数组 nums 和 一个目标值 target。请你从 nums 中选出三个整数，使它们的和与 target 最接近。  \n",
    "\n",
    "返回这三个数的和。  \n",
    "\n",
    "假定每组输入只存在恰好一个解。  \n",
    "\n",
    " \n",
    "\n",
    "示例 1：  \n",
    "\n",
    "输入：nums = [-1,2,1,-4], target = 1   \n",
    "输出：2  \n",
    "解释：与 target 最接近的和是 2 (-1 + 2 + 1 = 2) 。  \n",
    "示例 2：  \n",
    "\n",
    "输入：nums = [0,0,0], target = 1  \n",
    "输出：0  \n",
    " \n",
    "\n",
    "提示：    \n",
    "\n",
    "3 <= nums.length <= 1000  \n",
    "-1000 <= nums[i] <= 1000  \n",
    "-104 <= target <= 104   \n"
   ]
  },
  {
   "cell_type": "code",
   "execution_count": 6,
   "id": "72690268",
   "metadata": {},
   "outputs": [],
   "source": [
    "from typing import List\n",
    "class Solution:\n",
    "    def threeSumClosest(self, nums: List[int], target: int) -> int:\n",
    "        nums.sort()\n",
    "        s_min = nums[0] + nums[-2] + nums[-1]\n",
    "        \n",
    "        for left_cursor in range(len(nums)):\n",
    "            middle_cursor = left_cursor + 1\n",
    "            right_cursor = len(nums) - 1\n",
    "            while middle_cursor < right_cursor:\n",
    "                s = nums[left_cursor] + nums[middle_cursor] + nums[right_cursor]\n",
    "\n",
    "                if s == target:\n",
    "                    return s\n",
    "                \n",
    "                if abs(s - target) < abs(s_min - target):\n",
    "                    s_min = s\n",
    "\n",
    "                if s < target: \n",
    "                    middle_cursor += 1\n",
    "                else:\n",
    "                    right_cursor -= 1\n",
    "                    \n",
    "        return s_min\n",
    "                \n",
    "            \n",
    "        \n",
    "         "
   ]
  },
  {
   "cell_type": "code",
   "execution_count": 8,
   "id": "8c43684a",
   "metadata": {},
   "outputs": [
    {
     "data": {
      "text/plain": [
       "0"
      ]
     },
     "execution_count": 8,
     "metadata": {},
     "output_type": "execute_result"
    }
   ],
   "source": [
    "Solution().threeSumClosest([0, 0, 0], 2)"
   ]
  },
  {
   "cell_type": "code",
   "execution_count": null,
   "id": "46336ca5",
   "metadata": {},
   "outputs": [],
   "source": []
  }
 ],
 "metadata": {
  "kernelspec": {
   "display_name": "Python 3 (ipykernel)",
   "language": "python",
   "name": "python3"
  },
  "language_info": {
   "codemirror_mode": {
    "name": "ipython",
    "version": 3
   },
   "file_extension": ".py",
   "mimetype": "text/x-python",
   "name": "python",
   "nbconvert_exporter": "python",
   "pygments_lexer": "ipython3",
   "version": "3.9.12"
  }
 },
 "nbformat": 4,
 "nbformat_minor": 5
}
