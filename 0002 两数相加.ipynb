{
 "cells": [
  {
   "cell_type": "markdown",
   "id": "485470b9",
   "metadata": {},
   "source": [
    "2. 两数相加\n",
    "中等\n",
    "10.3K\n",
    "相关企业\n",
    "给你两个 非空 的链表，表示两个非负的整数。它们每位数字都是按照 逆序 的方式存储的，并且每个节点只能存储 一位 数字。\n",
    "\n",
    "请你将两个数相加，并以相同形式返回一个表示和的链表。\n",
    "\n",
    "你可以假设除了数字 0 之外，这两个数都不会以 0 开头。\n",
    "\n",
    " \n",
    "\n",
    "示例 1：\n",
    "\n",
    "\n",
    "输入：l1 = [2,4,3], l2 = [5,6,4]\n",
    "输出：[7,0,8]\n",
    "解释：342 + 465 = 807.\n",
    "示例 2：\n",
    "\n",
    "输入：l1 = [0], l2 = [0]\n",
    "输出：[0]\n",
    "示例 3：\n",
    "\n",
    "输入：l1 = [9,9,9,9,9,9,9], l2 = [9,9,9,9]\n",
    "输出：[8,9,9,9,0,0,0,1]\n",
    " \n",
    "\n",
    "提示：\n",
    "\n",
    "每个链表中的节点数在范围 [1, 100] 内\n",
    "0 <= Node.val <= 9\n",
    "题目数据保证列表表示的数字不含前导零"
   ]
  },
  {
   "cell_type": "code",
   "execution_count": 3,
   "id": "7d54c847",
   "metadata": {},
   "outputs": [],
   "source": [
    "from typing import Optional\n",
    "# Definition for singly-linked list.\n",
    "class ListNode:\n",
    "    def __init__(self, val=0, next=None):\n",
    "        self.val = val\n",
    "        self.next = next\n",
    "        \n",
    "class Solution:\n",
    "    def addTwoNumbers(self, l1: Optional[ListNode], l2: Optional[ListNode]) -> Optional[ListNode]:\n",
    "        result = ListNode()\n",
    "        l1_cursor = l1\n",
    "        l2_cursor = l2\n",
    "        result_cursor = result\n",
    "        incr = 0\n",
    "        while True:\n",
    "            l1_value = l1_cursor.val if l1_cursor else 0\n",
    "            l2_value = l2_cursor.val if l2_cursor else 0\n",
    "            value = l1_value + l2_value + incr\n",
    "            if value >= 10:\n",
    "                value = value % 10\n",
    "                incr = 1\n",
    "            else:\n",
    "                incr = 0\n",
    "\n",
    "            result_cursor.val = value\n",
    "            \n",
    "            l1_cursor = l1_cursor.next if l1_cursor else None\n",
    "            l2_cursor = l2_cursor.next if l2_cursor else None\n",
    "            if l1_cursor or l2_cursor or incr > 0:\n",
    "                result_cursor.next = ListNode()\n",
    "                result_cursor = result_cursor.next\n",
    "            else:\n",
    "                return result\n"
   ]
  },
  {
   "cell_type": "code",
   "execution_count": null,
   "id": "c3dc296d",
   "metadata": {},
   "outputs": [],
   "source": []
  }
 ],
 "metadata": {
  "kernelspec": {
   "display_name": "Python 3 (ipykernel)",
   "language": "python",
   "name": "python3"
  },
  "language_info": {
   "codemirror_mode": {
    "name": "ipython",
    "version": 3
   },
   "file_extension": ".py",
   "mimetype": "text/x-python",
   "name": "python",
   "nbconvert_exporter": "python",
   "pygments_lexer": "ipython3",
   "version": "3.9.12"
  }
 },
 "nbformat": 4,
 "nbformat_minor": 5
}
