{
 "cells": [
  {
   "cell_type": "markdown",
   "id": "be07a49d",
   "metadata": {},
   "source": [
    "61. 旋转链表  \n",
    " \n",
    "给你一个链表的头节点 head ，旋转链表，将链表每个节点向右移动 k 个位置。  \n",
    "\n",
    " \n",
    "\n",
    "示例 1：  \n",
    "\n",
    "\n",
    "输入：head = [1,2,3,4,5], k = 2  \n",
    "输出：[4,5,1,2,3]  \n",
    "示例 2：  \n",
    "\n",
    "\n",
    "输入：head = [0,1,2], k = 4  \n",
    "输出：[2,0,1]  \n",
    " \n",
    "\n",
    "提示：  \n",
    "\n",
    "链表中节点的数目在范围 [0, 500] 内  \n",
    "-100 <= Node.val <= 100  \n",
    "0 <= k <= 2 * 109  "
   ]
  },
  {
   "cell_type": "code",
   "execution_count": 5,
   "id": "c23de586",
   "metadata": {},
   "outputs": [],
   "source": [
    "from typing import Optional\n",
    "from list_utils import List, ListNode"
   ]
  },
  {
   "cell_type": "code",
   "execution_count": 64,
   "id": "2e22108d",
   "metadata": {},
   "outputs": [],
   "source": [
    "# Definition for singly-linked list.\n",
    "# class ListNode:\n",
    "#     def __init__(self, val=0, next=None):\n",
    "#         self.val = val\n",
    "#         self.next = next\n",
    "class Solution:\n",
    "    def rotateRight(self, head: Optional[ListNode], k: int) -> Optional[ListNode]:\n",
    "        if k == 0 or not head:\n",
    "            return head\n",
    "        \n",
    "        pre_cursor = ListNode(next=head)\n",
    "        k_next_cursor = head\n",
    "        \n",
    "        i = 1\n",
    "        while i < k and k_next_cursor.next:\n",
    "            k_next_cursor = k_next_cursor.next\n",
    "            i += 1\n",
    "        \n",
    "        if i < k:\n",
    "            left =  k % i\n",
    "            print(k, i, left)\n",
    "            if left == 0:\n",
    "                return head\n",
    "            \n",
    "            \n",
    "            j = 1\n",
    "            k_next_cursor = head\n",
    "            while j < left and k_next_cursor:\n",
    "                k_next_cursor = k_next_cursor.next\n",
    "                j += 1\n",
    "                    \n",
    "        while k_next_cursor.next:\n",
    "            pre_cursor = pre_cursor.next\n",
    "            k_next_cursor = k_next_cursor.next\n",
    "            \n",
    "        if pre_cursor.next == head:\n",
    "            return head\n",
    "        \n",
    "        print(pre_cursor.val, k_next_cursor.val)\n",
    "        k_next_cursor.next = head\n",
    "        head = pre_cursor.next\n",
    "        pre_cursor.next = None\n",
    "        \n",
    "        return head\n",
    "        \n",
    "        \n",
    "        \n",
    "        "
   ]
  },
  {
   "cell_type": "code",
   "execution_count": 65,
   "id": "8b4d3ffa",
   "metadata": {},
   "outputs": [
    {
     "name": "stdout",
     "output_type": "stream",
     "text": [
      "2 3\n",
      "[3, 1, 2]\n"
     ]
    }
   ],
   "source": [
    "res = Solution().rotateRight(ListNode.create_list_with_arr([1, 2, 3]), 1)\n",
    "ListNode.print_list(res)"
   ]
  },
  {
   "cell_type": "code",
   "execution_count": 68,
   "id": "6d1e29c5",
   "metadata": {
    "scrolled": true
   },
   "outputs": [
    {
     "name": "stdout",
     "output_type": "stream",
     "text": [
      "6 3 0\n",
      "[1, 2, 3]\n"
     ]
    }
   ],
   "source": [
    "res = Solution().rotateRight(ListNode.create_list_with_arr([1, 2, 3]), 6)\n",
    "ListNode.print_list(res)"
   ]
  },
  {
   "cell_type": "code",
   "execution_count": 69,
   "id": "14d21269",
   "metadata": {},
   "outputs": [
    {
     "name": "stderr",
     "output_type": "stream",
     "text": [
      "..\n",
      "----------------------------------------------------------------------\n",
      "Ran 2 tests in 0.002s\n",
      "\n",
      "OK\n"
     ]
    },
    {
     "name": "stdout",
     "output_type": "stream",
     "text": [
      "5 4 1\n",
      "3 4\n",
      "4 3 1\n",
      "2 3\n",
      "5 3 2\n",
      "1 3\n",
      "6 3 0\n",
      "2 3\n",
      "1 3\n"
     ]
    },
    {
     "data": {
      "text/plain": [
       "<unittest.runner.TextTestResult run=2 errors=0 failures=0>"
      ]
     },
     "execution_count": 69,
     "metadata": {},
     "output_type": "execute_result"
    }
   ],
   "source": [
    "import unittest\n",
    "\n",
    "class TestRotateRight(unittest.TestCase):\n",
    "    def testRotateKLessAndEqualListLen(self):\n",
    "        res = Solution().rotateRight(ListNode.create_list_with_arr([1, 2, 3]), 1)\n",
    "        self.assertEqual(List(res), List.create_list_with_arr([3,1,2]))\n",
    "        \n",
    "        res = Solution().rotateRight(ListNode.create_list_with_arr([1, 2, 3]), 2)\n",
    "        self.assertEqual(List(res), List.create_list_with_arr([2,3,1]))\n",
    "        \n",
    "        res = Solution().rotateRight(ListNode.create_list_with_arr([1, 2, 3]), 3)\n",
    "        self.assertEqual(List(res), List.create_list_with_arr([1,2,3]))\n",
    "     \n",
    "        \n",
    "    def testRotateKGreaterListLen(self):\n",
    "        res = Solution().rotateRight(ListNode.create_list_with_arr([1, 2, 3, 4]), 5)\n",
    "        self.assertEqual(List(res), List.create_list_with_arr([4,1,2,3]))\n",
    "        \n",
    "        res = Solution().rotateRight(ListNode.create_list_with_arr([1, 2, 3]), 4)\n",
    "        self.assertEqual(List(res), List.create_list_with_arr([3,1,2]))\n",
    "        \n",
    "        res = Solution().rotateRight(ListNode.create_list_with_arr([1, 2, 3]), 5)\n",
    "        self.assertEqual(List(res), List.create_list_with_arr([2,3,1]))\n",
    "        \n",
    "        res = Solution().rotateRight(ListNode.create_list_with_arr([1, 2, 3]), 6)\n",
    "        self.assertEqual(List(res), List.create_list_with_arr([1,2,3]))\n",
    "\n",
    "suite = unittest.TestLoader().loadTestsFromTestCase(TestRotateRight)\n",
    "unittest.TextTestRunner().run(suite)\n",
    "    \n"
   ]
  },
  {
   "cell_type": "code",
   "execution_count": null,
   "id": "688653e8",
   "metadata": {},
   "outputs": [],
   "source": []
  }
 ],
 "metadata": {
  "kernelspec": {
   "display_name": "Python 3 (ipykernel)",
   "language": "python",
   "name": "python3"
  },
  "language_info": {
   "codemirror_mode": {
    "name": "ipython",
    "version": 3
   },
   "file_extension": ".py",
   "mimetype": "text/x-python",
   "name": "python",
   "nbconvert_exporter": "python",
   "pygments_lexer": "ipython3",
   "version": "3.9.12"
  }
 },
 "nbformat": 4,
 "nbformat_minor": 5
}
