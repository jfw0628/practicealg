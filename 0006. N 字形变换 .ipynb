{
 "cells": [
  {
   "cell_type": "markdown",
   "id": "24d26e7d",
   "metadata": {},
   "source": [
    "6. N 字形变换  \n",
    "\n",
    "将一个给定字符串 s 根据给定的行数 numRows ，以从上往下、从左到右进行 Z 字形排列。  \n",
    "\n",
    "比如输入字符串为 \"PAYPALISHIRING\" 行数为 3 时，排列如下：  \n",
    "\n",
    "P   A   H   N  \n",
    "A P L S I I G  \n",
    "Y   I   R  \n",
    "之后，你的输出需要从左往右逐行读取，产生出一个新的字符串，比如：\"PAHNAPLSIIGYIR\"。  \n",
    "\n",
    "请你实现这个将字符串进行指定行数变换的函数：  \n",
    "\n",
    "string convert(string s, int numRows);  \n",
    " \n",
    "\n",
    "示例 1：  \n",
    "\n",
    "输入：s = \"PAYPALISHIRING\", numRows = 3  \n",
    "输出：\"PAHNAPLSIIGYIR\"  \n",
    "示例 2：  \n",
    "输入：s = \"PAYPALISHIRING\", numRows = 4  \n",
    "输出：\"PINALSIGYAHRPI\"  \n",
    "解释：  \n",
    "P     I    N  \n",
    "A   L S  I G  \n",
    "Y A   H R  \n",
    "P     I  \n",
    "示例 3：  \n",
    "\n",
    "输入：s = \"A\", numRows = 1  \n",
    "输出：\"A\"  \n",
    " \n",
    "  \n",
    "提示：  \n",
    "\n",
    "1 <= s.length <= 1000  \n",
    "s 由英文字母（小写和大写）、',' 和 '.' 组成  \n",
    "1 <= numRows <= 1000  "
   ]
  },
  {
   "cell_type": "code",
   "execution_count": 88,
   "id": "2f193beb",
   "metadata": {},
   "outputs": [],
   "source": [
    "class Solution:\n",
    "    def convert(self, s: str, numRows: int) -> str:\n",
    "        if not s or numRows <= 1:\n",
    "            return s\n",
    "        \n",
    "        numColumns = int(len(s) / numRows + 1) * numRows\n",
    "        str_array = [\"\" for i in range(numRows)]\n",
    "        \n",
    "        x, y = 0, 0\n",
    "        direction = 0 #0, down, 1 slash\n",
    "        \n",
    "        for char in s:\n",
    "            if direction == 0 and y < numRows:\n",
    "                str_array[y] += char\n",
    "                y += 1\n",
    "                \n",
    "                if y >= numRows:\n",
    "                    direction = 1\n",
    "                    y -= 1\n",
    "                    \n",
    "            elif direction == 1 and y >= 0:\n",
    "                y -= 1\n",
    "                str_array[y] += char\n",
    "        \n",
    "                if y <= 0:\n",
    "                    direction = 0\n",
    "                    y += 1\n",
    "\n",
    "\n",
    "        return ''.join(str_array)   "
   ]
  },
  {
   "cell_type": "code",
   "execution_count": 89,
   "id": "0edd12cf",
   "metadata": {},
   "outputs": [
    {
     "name": "stdout",
     "output_type": "stream",
     "text": [
      "3\n"
     ]
    },
    {
     "data": {
      "text/plain": [
       "'ABC'"
      ]
     },
     "execution_count": 89,
     "metadata": {},
     "output_type": "execute_result"
    }
   ],
   "source": [
    "str = 'ABC'\n",
    "print(len(str))\n",
    "Solution().convert(str, 1)"
   ]
  },
  {
   "cell_type": "code",
   "execution_count": null,
   "id": "ee72f7be",
   "metadata": {},
   "outputs": [],
   "source": []
  }
 ],
 "metadata": {
  "kernelspec": {
   "display_name": "Python 3 (ipykernel)",
   "language": "python",
   "name": "python3"
  },
  "language_info": {
   "codemirror_mode": {
    "name": "ipython",
    "version": 3
   },
   "file_extension": ".py",
   "mimetype": "text/x-python",
   "name": "python",
   "nbconvert_exporter": "python",
   "pygments_lexer": "ipython3",
   "version": "3.9.12"
  }
 },
 "nbformat": 4,
 "nbformat_minor": 5
}
