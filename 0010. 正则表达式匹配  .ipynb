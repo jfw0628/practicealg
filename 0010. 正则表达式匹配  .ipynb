{
 "cells": [
  {
   "cell_type": "markdown",
   "id": "a053631e",
   "metadata": {},
   "source": [
    "10. 正则表达式匹配  \n",
    "\n",
    "给你一个字符串 s 和一个字符规律 p，请你来实现一个支持 '.' 和 '*' 的正则表达式匹配。  \n",
    "\n",
    "'.' 匹配任意单个字符  \n",
    "'*' 匹配零个或多个前面的那一个元素  \n",
    "所谓匹配，是要涵盖 整个 字符串 s的，而不是部分字符串。  \n",
    "\n",
    " \n",
    "示例 1：  \n",
    "\n",
    "输入：s = \"aa\", p = \"a\"  \n",
    "输出：false   \n",
    "解释：\"a\" 无法匹配 \"aa\" 整个字符串。  \n",
    "示例 2:\n",
    "\n",
    "输入：s = \"aa\", p = \"a*\"  \n",
    "输出：true  \n",
    "解释：因为 '*' 代表可以匹配零个或多个前面的那一个元素, 在这里前面的元素就是 'a'。因此，字符串 \"aa\" 可被视为 'a' 重复了一次。 \n",
    "示例 3：  \n",
    "\n",
    "输入：s = \"ab\", p = \".*\" \n",
    "输出：true  \n",
    "解释：\".*\" 表示可匹配零个或多个（'*'）任意字符（'.'）。  \n",
    " \n",
    "\n",
    "提示：  \n",
    " \n",
    "1 <= s.length <= 20  \n",
    "1 <= p.length <= 20  \n",
    "s 只包含从 a-z 的小写字母。  \n",
    "p 只包含从 a-z 的小写字母，以及字符 . 和 *。  \n",
    "保证每次出现字符 * 时，前面都匹配到有效的字符  "
   ]
  },
  {
   "cell_type": "code",
   "execution_count": 53,
   "id": "d81e8eea",
   "metadata": {},
   "outputs": [],
   "source": [
    "# No working for '.*[a-z]'\n",
    "class Solution:\n",
    "    def isMatch(self, s: str, p: str) -> bool:\n",
    "        match_char = None # a char or 'all'\n",
    "        star_flag = False\n",
    "        \n",
    "        p_index = 0\n",
    "        s_index = 0\n",
    "        while s_index < len(s):\n",
    "            current_char = s[s_index]\n",
    "            if not match_char and p_index < len(p):\n",
    "                match_char = p[p_index] if p[p_index] != '.' else 'all'\n",
    "                if p_index + 1 < len(p) and p[p_index + 1] == '*':\n",
    "                    star_flag = True\n",
    "                    p_index = p_index + 2\n",
    "                    \n",
    "                    while p_index < len(p):\n",
    "                        if p[p_index] == match_char:\n",
    "                            p_index += 1\n",
    "                        else:\n",
    "                            break\n",
    "                \n",
    "            print(current_char, match_char, star_flag, p_index)\n",
    "            if current_char == match_char or match_char == 'all':\n",
    "                s_index += 1\n",
    "                if not star_flag:\n",
    "                    p_index += 1\n",
    "                    match_char = None\n",
    "            else:\n",
    "                if star_flag:\n",
    "                    star_flag = False\n",
    "                    match_char = None\n",
    "                    continue\n",
    "                else:\n",
    "                    print(current_char, match_char, star_flag)\n",
    "                    return False\n",
    "        \n",
    "        if p_index >= len(p):\n",
    "            return True\n",
    "        else:\n",
    "            return False\n",
    "                \n",
    "                    \n",
    "            \n",
    "                \n",
    "            "
   ]
  },
  {
   "cell_type": "code",
   "execution_count": 89,
   "id": "3d4cc1e1",
   "metadata": {},
   "outputs": [],
   "source": [
    "class Solution:\n",
    "    def isMatch(self, s: str, p: str) -> bool:\n",
    "        n, m = len(s) + 1, len(p) + 1\n",
    "        \n",
    "        status_matrix = [[False for i in range(m)] for j in range(n)]\n",
    "        status_matrix[0][0] = True\n",
    "        \n",
    "        for i in range(2, m, 2): # for s is empty \n",
    "            if p[i - 1] == \"*\":\n",
    "                status_matrix[0][i] = status_matrix[0][i - 2]\n",
    "                \n",
    "        for i in range(1, n):\n",
    "            for j in range(1, m):\n",
    "                if p[j - 1] != '*':\n",
    "                    if s[i-1] == p[j-1] or p[j-1]=='.':\n",
    "                        status_matrix[i][j] = status_matrix[i - 1][j - 1]\n",
    "                else:\n",
    "                    if (p[j-2] == \".\" or p[j-2] == s[i-1]) and status_matrix[i-1][j ]:\n",
    "                        status_matrix[i][j] = True\n",
    "                    if status_matrix[i][j-2]:\n",
    "                        status_matrix[i][j] = True\n",
    "        \n",
    "        for i in range(n):\n",
    "            print(status_matrix[i])\n",
    "        \n",
    "        return status_matrix[-1][-1]\n",
    "                        \n",
    "        \n",
    "        \n",
    "        \n",
    "        "
   ]
  },
  {
   "cell_type": "code",
   "execution_count": 95,
   "id": "6292b99e",
   "metadata": {
    "scrolled": true
   },
   "outputs": [
    {
     "name": "stdout",
     "output_type": "stream",
     "text": [
      "[True, False, True, False, True, False]\n",
      "[False, False, False, True, True, True]\n",
      "[False, False, False, False, True, True]\n",
      "[False, False, False, False, True, True]\n"
     ]
    },
    {
     "data": {
      "text/plain": [
       "True"
      ]
     },
     "execution_count": 95,
     "metadata": {},
     "output_type": "execute_result"
    }
   ],
   "source": [
    "Solution().isMatch('aaa', 'b*a*a')"
   ]
  },
  {
   "cell_type": "code",
   "execution_count": 96,
   "id": "1c79f267",
   "metadata": {},
   "outputs": [
    {
     "name": "stdout",
     "output_type": "stream",
     "text": [
      "[True, False, True, False]\n",
      "[False, True, True, False]\n",
      "[False, False, True, False]\n",
      "[False, False, True, False]\n",
      "[False, False, True, False]\n",
      "[False, False, True, False]\n",
      "[False, False, True, False]\n",
      "[False, False, True, True]\n",
      "[False, False, True, False]\n",
      "[False, False, True, True]\n",
      "[False, False, True, False]\n"
     ]
    },
    {
     "data": {
      "text/plain": [
       "False"
      ]
     },
     "execution_count": 96,
     "metadata": {},
     "output_type": "execute_result"
    }
   ],
   "source": [
    "Solution().isMatch('acdbcdfefe', '.*f')"
   ]
  },
  {
   "cell_type": "code",
   "execution_count": 92,
   "id": "2f842e01",
   "metadata": {},
   "outputs": [
    {
     "name": "stdout",
     "output_type": "stream",
     "text": [
      "[True, False, True, False, True, False]\n",
      "[False, False, False, True, True, False]\n",
      "[False, False, False, False, True, False]\n",
      "[False, False, False, False, False, True]\n"
     ]
    },
    {
     "data": {
      "text/plain": [
       "True"
      ]
     },
     "execution_count": 92,
     "metadata": {},
     "output_type": "execute_result"
    }
   ],
   "source": [
    "Solution().isMatch('aab', 'c*a*b')"
   ]
  },
  {
   "cell_type": "code",
   "execution_count": 94,
   "id": "3a7b17fb",
   "metadata": {},
   "outputs": [
    {
     "name": "stdout",
     "output_type": "stream",
     "text": [
      "[True, False, False, False, False, False]\n",
      "[False, False, False, False, False, False]\n",
      "[False, False, False, False, False, False]\n",
      "[False, False, False, False, False, False]\n",
      "[False, False, False, False, False, False]\n"
     ]
    },
    {
     "data": {
      "text/plain": [
       "False"
      ]
     },
     "execution_count": 94,
     "metadata": {},
     "output_type": "execute_result"
    }
   ],
   "source": [
    "Solution().isMatch('abcd', '.*cd')"
   ]
  },
  {
   "cell_type": "code",
   "execution_count": 64,
   "id": "d27a62bc",
   "metadata": {},
   "outputs": [],
   "source": [
    "class Solution:\n",
    "    def isMatch(self, s: str, p: str) -> bool:\n",
    "        m, n = len(s) + 1, len(p) + 1\n",
    "        dp = [[False] * n for _ in range(m)]\n",
    "        dp[0][0] = True\n",
    "        # 初始化首行\n",
    "        for j in range(2, n, 2):\n",
    "            print(j)\n",
    "            dp[0][j] = dp[0][j - 2] and p[j - 1] == '*'\n",
    "        # 状态转移\n",
    "        for i in range(1, m):\n",
    "            for j in range(1, n):\n",
    "                if p[j - 1] == '*':\n",
    "                    if dp[i][j - 2]: dp[i][j] = True                              # 1.\n",
    "                    elif dp[i - 1][j] and s[i - 1] == p[j - 2]: dp[i][j] = True   # 2.\n",
    "                    elif dp[i - 1][j] and p[j - 2] == '.': dp[i][j] = True        # 3.\n",
    "                else:\n",
    "                    if dp[i - 1][j - 1] and s[i - 1] == p[j - 1]: dp[i][j] = True # 1.\n",
    "                    elif dp[i - 1][j - 1] and p[j - 1] == '.': dp[i][j] = True    # 2.\n",
    "        for i in range(m):\n",
    "            print(dp[i])\n",
    "        return dp[-1][-1] \n",
    "\n"
   ]
  },
  {
   "cell_type": "code",
   "execution_count": 87,
   "id": "d9e57314",
   "metadata": {
    "scrolled": true
   },
   "outputs": [
    {
     "name": "stdout",
     "output_type": "stream",
     "text": [
      "[True, False, True]\n",
      "[False, True, False]\n",
      "[False, False, True]\n",
      "[False, False, False]\n",
      "[False, False, False]\n",
      "[False, False, False]\n",
      "[False, False, False]\n",
      "[False, False, False]\n",
      "[False, False, False]\n",
      "[False, False, False]\n",
      "[False, False, False]\n"
     ]
    },
    {
     "data": {
      "text/plain": [
       "False"
      ]
     },
     "execution_count": 87,
     "metadata": {},
     "output_type": "execute_result"
    }
   ],
   "source": [
    "Solution().isMatch('acdbcdfefe', '.*')"
   ]
  },
  {
   "cell_type": "code",
   "execution_count": null,
   "id": "6ada50be",
   "metadata": {},
   "outputs": [],
   "source": []
  }
 ],
 "metadata": {
  "kernelspec": {
   "display_name": "Python 3 (ipykernel)",
   "language": "python",
   "name": "python3"
  },
  "language_info": {
   "codemirror_mode": {
    "name": "ipython",
    "version": 3
   },
   "file_extension": ".py",
   "mimetype": "text/x-python",
   "name": "python",
   "nbconvert_exporter": "python",
   "pygments_lexer": "ipython3",
   "version": "3.9.12"
  }
 },
 "nbformat": 4,
 "nbformat_minor": 5
}
