{
 "cells": [
  {
   "cell_type": "markdown",
   "id": "41a8fda0",
   "metadata": {},
   "source": [
    "# 33. 搜索旋转排序数组   \n",
    " \n",
    "整数数组 nums 按升序排列，数组中的值 互不相同 。  \n",
    "\n",
    "在传递给函数之前，nums 在预先未知的某个下标 k（0 <= k < nums.length）上进行了 旋转，使数组变为 [nums[k], nums[k+1], ..., nums[n-1], nums[0], nums[1], ..., nums[k-1]]（下标 从 0 开始 计数）。例如， [0,1,2,4,5,6,7] 在下标 3 处经旋转后可能变为 [4,5,6,7,0,1,2] 。  \n",
    "\n",
    "给你 旋转后 的数组 nums 和一个整数 target ，如果 nums 中存在这个目标值 target ，则返回它的下标，否则返回 -1 。  \n",
    "\n",
    "你必须设计一个时间复杂度为 O(log n) 的算法解决此问题。  \n",
    "\n",
    " \n",
    "\n",
    "示例 1：  \n",
    "\n",
    "输入：nums = [4,5,6,7,0,1,2], target = 0  \n",
    "输出：4  \n",
    "示例 2：  \n",
    "\n",
    "输入：nums = [4,5,6,7,0,1,2], target = 3  \n",
    "输出：-1  \n",
    "示例 3：  \n",
    "\n",
    "输入：nums = [1], target = 0  \n",
    "输出：-1  \n",
    " \n",
    "\n",
    "提示：  \n",
    "\n",
    "1 <= nums.length <= 5000  \n",
    "-104 <= nums[i] <= 104  \n",
    "nums 中的每个值都 独一无二  \n",
    "题目数据保证 nums 在预先未知的某个下标上进行了旋转  \n",
    "-104 <= target <= 104  "
   ]
  },
  {
   "cell_type": "code",
   "execution_count": 2,
   "id": "58140ac1",
   "metadata": {},
   "outputs": [],
   "source": [
    "from typing import List"
   ]
  },
  {
   "cell_type": "code",
   "execution_count": 18,
   "id": "268eed5a",
   "metadata": {},
   "outputs": [],
   "source": [
    "class Solution:\n",
    "    def search(self, nums: List[int], target: int) -> int:\n",
    "        if not nums:\n",
    "            return -1\n",
    "        left = 0\n",
    "        right = len(nums) - 1\n",
    "        \n",
    "        while left <= right:\n",
    "            middle = (left + right) // 2\n",
    "            if nums[middle] == target:\n",
    "                return middle\n",
    "            \n",
    "            if nums[0] <= nums[middle]:\n",
    "                if nums[0] <= target <= nums[middle]:\n",
    "                    right = middle - 1\n",
    "                else:\n",
    "                    left = middle + 1\n",
    "            else:\n",
    "                if nums[middle] <= target <= nums[-1]:\n",
    "                    left = middle + 1\n",
    "                else:\n",
    "                    right = middle - 1\n",
    "        \n",
    "        return -1 \n",
    "                \n",
    "        "
   ]
  },
  {
   "cell_type": "code",
   "execution_count": 19,
   "id": "4613e5ca",
   "metadata": {},
   "outputs": [
    {
     "data": {
      "text/plain": [
       "1"
      ]
     },
     "execution_count": 19,
     "metadata": {},
     "output_type": "execute_result"
    }
   ],
   "source": [
    "Solution().search([4,5,6,0,1,2], 5)"
   ]
  },
  {
   "cell_type": "code",
   "execution_count": 20,
   "id": "9a71e1ce",
   "metadata": {},
   "outputs": [
    {
     "data": {
      "text/plain": [
       "-1"
      ]
     },
     "execution_count": 20,
     "metadata": {},
     "output_type": "execute_result"
    }
   ],
   "source": [
    "Solution().search([4,5,6,7,0,1,2],3)"
   ]
  },
  {
   "cell_type": "code",
   "execution_count": 21,
   "id": "6f8c35e1",
   "metadata": {},
   "outputs": [
    {
     "data": {
      "text/plain": [
       "4"
      ]
     },
     "execution_count": 21,
     "metadata": {},
     "output_type": "execute_result"
    }
   ],
   "source": [
    "Solution().search([4,5,6,7,0,1,2], 0)"
   ]
  },
  {
   "cell_type": "code",
   "execution_count": 22,
   "id": "4bcc236e",
   "metadata": {},
   "outputs": [
    {
     "data": {
      "text/plain": [
       "-1"
      ]
     },
     "execution_count": 22,
     "metadata": {},
     "output_type": "execute_result"
    }
   ],
   "source": [
    "nums = [1]\n",
    "target = 0\n",
    "Solution().search(nums, target)"
   ]
  },
  {
   "cell_type": "code",
   "execution_count": null,
   "id": "b4541d62",
   "metadata": {},
   "outputs": [],
   "source": []
  }
 ],
 "metadata": {
  "kernelspec": {
   "display_name": "Python 3 (ipykernel)",
   "language": "python",
   "name": "python3"
  },
  "language_info": {
   "codemirror_mode": {
    "name": "ipython",
    "version": 3
   },
   "file_extension": ".py",
   "mimetype": "text/x-python",
   "name": "python",
   "nbconvert_exporter": "python",
   "pygments_lexer": "ipython3",
   "version": "3.7.16"
  }
 },
 "nbformat": 4,
 "nbformat_minor": 5
}
