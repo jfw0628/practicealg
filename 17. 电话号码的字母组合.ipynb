{
 "cells": [
  {
   "cell_type": "markdown",
   "id": "73a6a4d7-e18c-43c4-9844-bfcbef979911",
   "metadata": {},
   "source": [
    "# 17. 电话号码的字母组合\n",
    "\n",
    "给定一个仅包含数字 2-9 的字符串，返回所有它能表示的字母组合。答案可以按 任意顺序 返回。  \n",
    "\n",
    "给出数字到字母的映射如下（与电话按键相同）。注意 1 不对应任何字母。  \n",
    "\n",
    "\n",
    "示例 1：  \n",
    "\n",
    "输入：digits = \"23\"  \n",
    "输出：[\"ad\",\"ae\",\"af\",\"bd\",\"be\",\"bf\",\"cd\",\"ce\",\"cf\"]  \n",
    "示例 2：  \n",
    "\n",
    "输入：digits = \"\"  \n",
    "输出：[]  \n",
    "示例 3：  \n",
    "\n",
    "输入：digits = \"2\"  \n",
    "输出：[\"a\",\"b\",\"c\"]  \n",
    " \n",
    "\n",
    "提示：  \n",
    "\n",
    "0 <= digits.length <= 4  \n",
    "digits[i] 是范围 ['2', '9'] 的一个数字。  "
   ]
  },
  {
   "cell_type": "code",
   "execution_count": 9,
   "id": "cdee7a4c-9baf-4b85-8954-2a9f8dc92cd8",
   "metadata": {},
   "outputs": [],
   "source": [
    "from typing import List\n",
    "class Solution:\n",
    "    @staticmethod\n",
    "    def generate_pattern(current_strs, letters):\n",
    "        new_strs = []\n",
    "        for c_str in current_strs:\n",
    "            for letter in letters:\n",
    "                new_strs.append(c_str + letter)\n",
    "        return new_strs\n",
    "        \n",
    "    \n",
    "    def letterCombinations(self, digits: str) -> List[str]:\n",
    "        mappings = {'2': ['a', 'b', 'c'],\n",
    "                    '3': ['d', 'e', 'f'],\n",
    "                    '4': ['g', 'h', 'i'],\n",
    "                    '5': ['j', 'k', 'l'],\n",
    "                    '6': ['m', 'n', 'o'],\n",
    "                    '7': ['p', 'q', 'r', 's'],\n",
    "                    '8': ['t', 'v', 'u'],\n",
    "                    '9': ['w', 'x', 'y', 'z']\n",
    "                   }\n",
    "\n",
    "        digit_characters = [mappings[i] for i in digits]\n",
    "        patterns = ['']\n",
    "        for digit_character in digit_characters:\n",
    "            patterns = self.generate_pattern(patterns, digit_character)\n",
    "\n",
    "        return patterns if len(patterns) > 1 else []\n",
    "\n",
    "        "
   ]
  },
  {
   "cell_type": "code",
   "execution_count": 10,
   "id": "44bf8434-2718-44d3-a46c-70840f339648",
   "metadata": {},
   "outputs": [
    {
     "data": {
      "text/plain": [
       "[]"
      ]
     },
     "execution_count": 10,
     "metadata": {},
     "output_type": "execute_result"
    }
   ],
   "source": [
    "Solution().letterCombinations('')"
   ]
  },
  {
   "cell_type": "code",
   "execution_count": null,
   "id": "811abfc5-de14-4669-9cec-88471fe6d232",
   "metadata": {},
   "outputs": [],
   "source": []
  }
 ],
 "metadata": {
  "kernelspec": {
   "display_name": "Python 3 (ipykernel)",
   "language": "python",
   "name": "python3"
  },
  "language_info": {
   "codemirror_mode": {
    "name": "ipython",
    "version": 3
   },
   "file_extension": ".py",
   "mimetype": "text/x-python",
   "name": "python",
   "nbconvert_exporter": "python",
   "pygments_lexer": "ipython3",
   "version": "3.11.5"
  }
 },
 "nbformat": 4,
 "nbformat_minor": 5
}
