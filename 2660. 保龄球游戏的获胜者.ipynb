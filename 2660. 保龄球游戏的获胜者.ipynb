{
 "cells": [
  {
   "cell_type": "markdown",
   "id": "9553ee6f-36cf-4d1a-b586-03740153d301",
   "metadata": {},
   "source": [
    "# 2660. 保龄球游戏的获胜者\n",
    "\n",
    "给你两个下标从 0 开始的整数数组 player1 和 player2 ，分别表示玩家 1 和玩家 2 击中的瓶数。  \n",
    "\n",
    "保龄球比赛由 n 轮组成，每轮的瓶数恰好为 10 。  \n",
    "\n",
    "假设玩家在第 i 轮中击中 xi 个瓶子。玩家第 i 轮的价值为：  \n",
    "\n",
    "如果玩家在该轮的前两轮的任何一轮中击中了 10 个瓶子，则为 2xi 。  \n",
    "否则，为 xi 。  \n",
    "玩家的得分是其 n 轮价值的总和。  \n",
    "\n",
    "返回  \n",
    "\n",
    "如果玩家 1 的得分高于玩家 2 的得分，则为 1 ；  \n",
    "如果玩家 2 的得分高于玩家 1 的得分，则为 2 ；  \n",
    "如果平局，则为 0 。  \n",
    " \n",
    "\n",
    "示例 1：  \n",
    "\n",
    "输入：player1 = [4,10,7,9], player2 = [6,5,2,3]  \n",
    "输出：1  \n",
    "解释：player1 的得分是 4 + 10 + 2*7 + 2*9 = 46 。  \n",
    "player2 的得分是 6 + 5 + 2 + 3 = 16 。  \n",
    "player1 的得分高于 player2 的得分，所以 play1 在比赛中获胜，答案为 1 。  \n",
    "示例 2：  \n",
    "\n",
    "输入：player1 = [3,5,7,6], player2 = [8,10,10,2]  \n",
    "输出：2  \n",
    "解释：player1 的得分是 3 + 5 + 7 + 6 = 21 。  \n",
    "player2 的得分是 8 + 10 + 2*10 + 2*2 = 42 。  \n",
    "player2 的得分高于 player1 的得分，所以 play2 在比赛中获胜，答案为 2 。  \n",
    "示例 3：  \n",
    "\n",
    "输入：player1 = [2,3], player2 = [4,1]  \n",
    "输出：0  \n",
    "解释：player1 的得分是 2 + 3 = 5 。  \n",
    "player2 的得分是 4 + 1 = 5 。  \n",
    "player1 的得分等于 player2 的得分，所以这一场比赛平局，答案为 0 。  \n",
    " \n",
    "\n"
   ]
  },
  {
   "cell_type": "code",
   "execution_count": 32,
   "id": "778a8f62-a983-48d6-8d52-d45c0e77537a",
   "metadata": {},
   "outputs": [],
   "source": [
    "from typing import List\n",
    "class Solution:\n",
    "    @staticmethod\n",
    "    def calc_score(scores):\n",
    "        total = 0\n",
    "        double_mark = False\n",
    "        count = 0\n",
    "        for score in scores:\n",
    "            total += score * 2 if double_mark else score\n",
    "            if score == 10:\n",
    "                double_mark = True\n",
    "                count = 0\n",
    "            elif double_mark:\n",
    "                count += 1\n",
    "                if count >= 2:\n",
    "                    double_mark = False\n",
    "                    \n",
    "        return total\n",
    "        \n",
    "    def isWinner(self, player1: List[int], player2: List[int]) -> int:\n",
    "        p1_total_score = self.calc_score(player1)\n",
    "        p2_total_score = self.calc_score(player2)\n",
    "\n",
    "        if p1_total_score > p2_total_score:\n",
    "            return 1\n",
    "        elif p1_total_score < p2_total_score:\n",
    "            return 2\n",
    "        else:\n",
    "            return 0\n",
    "        "
   ]
  },
  {
   "cell_type": "code",
   "execution_count": 33,
   "id": "1f5d19eb-3d42-403a-bb9d-edc2b5eab47d",
   "metadata": {},
   "outputs": [
    {
     "data": {
      "text/plain": [
       "2"
      ]
     },
     "execution_count": 33,
     "metadata": {},
     "output_type": "execute_result"
    }
   ],
   "source": [
    "Solution().isWinner([1,2,3,4], [2,3,4,5])"
   ]
  },
  {
   "cell_type": "code",
   "execution_count": 34,
   "id": "078f65ee-6e7d-4141-a140-e586d6c719cf",
   "metadata": {},
   "outputs": [
    {
     "data": {
      "text/plain": [
       "0"
      ]
     },
     "execution_count": 34,
     "metadata": {},
     "output_type": "execute_result"
    }
   ],
   "source": [
    "Solution().isWinner([1,10,10,4], [2,9,10,4,5])"
   ]
  },
  {
   "cell_type": "code",
   "execution_count": 36,
   "id": "75a48d22-8086-427d-8fda-c23bc0e6ea2b",
   "metadata": {},
   "outputs": [
    {
     "data": {
      "text/plain": [
       "1"
      ]
     },
     "execution_count": 36,
     "metadata": {},
     "output_type": "execute_result"
    }
   ],
   "source": [
    "Solution().isWinner([9,7,10,7], [10,2,4,10])"
   ]
  },
  {
   "cell_type": "code",
   "execution_count": 37,
   "id": "cd6b8266-494c-45ba-a6dc-9d29d4cb1e20",
   "metadata": {},
   "outputs": [
    {
     "data": {
      "text/plain": [
       "2"
      ]
     },
     "execution_count": 37,
     "metadata": {},
     "output_type": "execute_result"
    }
   ],
   "source": [
    "Solution().isWinner([7, 10, 2, 6, 8, 5, 4, 6, 10, 9, 1, 4, 3, 10, 0, 9, 6, 1, 0], [2, 1, 9, 4, 5, 0, 6, 5, 6, 10, 10, 4, 8, 8, 6, 9, 2, 9, 5])"
   ]
  },
  {
   "cell_type": "code",
   "execution_count": 31,
   "id": "d17d7bc4-cfd7-4ec8-9aa8-08d578c346e1",
   "metadata": {},
   "outputs": [
    {
     "data": {
      "text/plain": [
       "'0b1'"
      ]
     },
     "execution_count": 31,
     "metadata": {},
     "output_type": "execute_result"
    }
   ],
   "source": [
    "bin(1)"
   ]
  },
  {
   "cell_type": "code",
   "execution_count": null,
   "id": "941d4535-5281-4e10-9dd9-4a7149855eb8",
   "metadata": {},
   "outputs": [],
   "source": []
  }
 ],
 "metadata": {
  "kernelspec": {
   "display_name": "Python 3 (ipykernel)",
   "language": "python",
   "name": "python3"
  },
  "language_info": {
   "codemirror_mode": {
    "name": "ipython",
    "version": 3
   },
   "file_extension": ".py",
   "mimetype": "text/x-python",
   "name": "python",
   "nbconvert_exporter": "python",
   "pygments_lexer": "ipython3",
   "version": "3.11.5"
  }
 },
 "nbformat": 4,
 "nbformat_minor": 5
}
