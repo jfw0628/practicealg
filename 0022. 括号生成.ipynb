{
 "cells": [
  {
   "cell_type": "markdown",
   "id": "b26891bc",
   "metadata": {},
   "source": [
    "# 22. 括号生成  \n",
    " \n",
    "数字 n 代表生成括号的对数，请你设计一个函数，用于能够生成所有可能的并且 有效的 括号组合。  \n",
    "\n",
    " \n",
    "\n",
    "示例 1：  \n",
    "\n",
    "输入：n = 3  \n",
    "输出：[\"((()))\",\"(()())\",\"(())()\",\"()(())\",\"()()()\"]  \n",
    "示例 2：  \n",
    "\n",
    "输入：n = 1  \n",
    "输出：[\"()\"]  \n",
    " \n",
    "\n",
    "提示：  \n",
    "\n",
    "1 <= n <= 8  "
   ]
  },
  {
   "cell_type": "code",
   "execution_count": 2,
   "id": "198b009c",
   "metadata": {},
   "outputs": [],
   "source": [
    "from typing import List"
   ]
  },
  {
   "cell_type": "code",
   "execution_count": 70,
   "id": "9db1e1c5",
   "metadata": {},
   "outputs": [],
   "source": [
    "from functools import lru_cache\n",
    "class Solution:\n",
    "    @staticmethod\n",
    "    @lru_cache(maxsize=10)\n",
    "    def generateParenthesisRecursivly(n):\n",
    "        if n == 0:\n",
    "            return ['']\n",
    "        if n == 1:\n",
    "            return ['()']\n",
    "        \n",
    "        all_lists = []\n",
    "        for i in range(n):\n",
    "            left_parts = Solution.generateParenthesisRecursivly(i)\n",
    "            right_parts = Solution.generateParenthesisRecursivly(n - i - 1)\n",
    "            for j in left_parts:\n",
    "                for k in right_parts:\n",
    "                    all_lists.append(f'({j}){k}')\n",
    "        return all_lists\n",
    "        \n",
    "        sub_patterns = Solution.generateParenthesisRecursivly(n-1)\n",
    "        return list(set([f'(){i}' for i in  sub_patterns] + \\\n",
    "                [f'({i})' for i in sub_patterns] + \\\n",
    "                [f'{i}()' for i in  sub_patterns]))\n",
    "\n",
    "    \n",
    "    def generateParenthesis(self, n: int) -> List[str]:\n",
    "        return Solution.generateParenthesisRecursivly(n)"
   ]
  },
  {
   "cell_type": "code",
   "execution_count": 71,
   "id": "a994df44",
   "metadata": {},
   "outputs": [
    {
     "data": {
      "text/plain": [
       "['()']"
      ]
     },
     "execution_count": 71,
     "metadata": {},
     "output_type": "execute_result"
    }
   ],
   "source": [
    "Solution().generateParenthesis(1)"
   ]
  },
  {
   "cell_type": "code",
   "execution_count": 72,
   "id": "674c186c",
   "metadata": {},
   "outputs": [
    {
     "data": {
      "text/plain": [
       "['()()', '(())']"
      ]
     },
     "execution_count": 72,
     "metadata": {},
     "output_type": "execute_result"
    }
   ],
   "source": [
    "Solution().generateParenthesis(2)"
   ]
  },
  {
   "cell_type": "code",
   "execution_count": 73,
   "id": "65410f78",
   "metadata": {},
   "outputs": [
    {
     "data": {
      "text/plain": [
       "['()()()', '()(())', '(())()', '(()())', '((()))']"
      ]
     },
     "execution_count": 73,
     "metadata": {},
     "output_type": "execute_result"
    }
   ],
   "source": [
    "Solution().generateParenthesis(3)"
   ]
  },
  {
   "cell_type": "code",
   "execution_count": 74,
   "id": "cb4b4981",
   "metadata": {},
   "outputs": [
    {
     "name": "stdout",
     "output_type": "stream",
     "text": [
      "14 ['()()()()', '()()(())', '()(())()', '()(()())', '()((()))', '(())()()', '(())(())', '(()())()', '((()))()', '(()()())', '(()(()))', '((())())', '((()()))', '(((())))']\n"
     ]
    }
   ],
   "source": [
    "res= Solution().generateParenthesis(4)\n",
    "print(len(res), res)"
   ]
  },
  {
   "cell_type": "code",
   "execution_count": 65,
   "id": "5ba6ca8a",
   "metadata": {},
   "outputs": [
    {
     "data": {
      "text/plain": [
       "<function functools.lru_cache(maxsize=128, typed=False)>"
      ]
     },
     "execution_count": 65,
     "metadata": {},
     "output_type": "execute_result"
    }
   ],
   "source": [
    "import functools \n",
    "functools.lru_cache"
   ]
  },
  {
   "cell_type": "markdown",
   "id": "d3c3389c",
   "metadata": {},
   "source": [
    "Insert parenthesis into the string and remove duplicated, much more simpler and time usage\n",
    "```\n",
    "class Solution:  \n",
    "    def generateParenthesis(self, n: int) -> List[str]:  \n",
    "        if n == 1:  \n",
    "            return [\"()\"]  \n",
    "        l = self.generateParenthesis(n-1)  \n",
    "        ans = set()  \n",
    "        for i in l:  \n",
    "            for j in range(len(i)+1):  \n",
    "                ans.add(i[:j]+\"()\"+i[j:])  \n",
    "        return list(ans)  \n",
    " ```\n"
   ]
  },
  {
   "cell_type": "code",
   "execution_count": null,
   "id": "d2ee5094",
   "metadata": {},
   "outputs": [],
   "source": []
  }
 ],
 "metadata": {
  "kernelspec": {
   "display_name": "Python 3 (ipykernel)",
   "language": "python",
   "name": "python3"
  },
  "language_info": {
   "codemirror_mode": {
    "name": "ipython",
    "version": 3
   },
   "file_extension": ".py",
   "mimetype": "text/x-python",
   "name": "python",
   "nbconvert_exporter": "python",
   "pygments_lexer": "ipython3",
   "version": "3.7.16"
  }
 },
 "nbformat": 4,
 "nbformat_minor": 5
}
