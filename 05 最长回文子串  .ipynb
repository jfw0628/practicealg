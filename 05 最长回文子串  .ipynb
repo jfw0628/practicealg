{
 "cells": [
  {
   "cell_type": "markdown",
   "id": "f17270f8",
   "metadata": {},
   "source": [
    "5. 最长回文子串  \n",
    "\n",
    "给你一个字符串 s，找到 s 中最长的回文子串。  \n",
    "\n",
    "如果字符串的反序与原始字符串相同，则该字符串称为回文字符串。 \n",
    "\n",
    " \n",
    "\n",
    "示例 1：  \n",
    "  \n",
    "输入：s = \"babad\" \n",
    "输出：\"bab\"  \n",
    "解释：\"aba\" 同样是符合题意的答案。  \n",
    "示例 2：  \n",
    "\n",
    "输入：s = \"cbbd\"  \n",
    "输出：\"bb\"  \n",
    " \n",
    "\n",
    "提示：  \n",
    "\n",
    "1 <= s.length <= 1000  \n",
    "s 仅由数字和英文字母组成  \n"
   ]
  },
  {
   "cell_type": "code",
   "execution_count": 1,
   "id": "6479f718",
   "metadata": {},
   "outputs": [],
   "source": [
    "from typing import List\n",
    "class Solution:\n",
    "    def iter_str(self, s: str, index: int, right_addition=0) -> str:\n",
    "        cur_correct_str = \"\"\n",
    "        i = 1\n",
    "        while True:\n",
    "                right = index + i + right_addition\n",
    "                left = index - i\n",
    "                if right < len(s) and left >= 0 and s[right] == s[left]:\n",
    "                    cur_correct_str += s[right]\n",
    "                else:\n",
    "                    return cur_correct_str\n",
    "                i += 1\n",
    "\n",
    "\n",
    "    def longestPalindrome(self, s: str) -> str:\n",
    "        right = 0\n",
    "        left = 0\n",
    "        longest_palindrome_str = ''\n",
    "        for index in range(len(s)):\n",
    "            cur_correct_str = self.iter_str(s, index)\n",
    "            cur_correct_str = cur_correct_str[::-1] + s[index] + cur_correct_str\n",
    "            if len(cur_correct_str) > len(longest_palindrome_str):\n",
    "                longest_palindrome_str = cur_correct_str\n",
    "            \n",
    "            right = index + 1\n",
    "            if right < len(s) and s[right] == s[index]:\n",
    "                cur_correct_str = self.iter_str(s, index, right_addition=1)\n",
    "                cur_correct_str = cur_correct_str[::-1] + s[index] + s[index] + cur_correct_str\n",
    "                if len(cur_correct_str) > len(longest_palindrome_str):\n",
    "                    longest_palindrome_str = cur_correct_str\n",
    "\n",
    "        return longest_palindrome_str\n",
    "                \n",
    "                    \n",
    "\n"
   ]
  },
  {
   "cell_type": "code",
   "execution_count": null,
   "id": "874aedde",
   "metadata": {},
   "outputs": [],
   "source": []
  }
 ],
 "metadata": {
  "kernelspec": {
   "display_name": "Python 3 (ipykernel)",
   "language": "python",
   "name": "python3"
  },
  "language_info": {
   "codemirror_mode": {
    "name": "ipython",
    "version": 3
   },
   "file_extension": ".py",
   "mimetype": "text/x-python",
   "name": "python",
   "nbconvert_exporter": "python",
   "pygments_lexer": "ipython3",
   "version": "3.9.12"
  }
 },
 "nbformat": 4,
 "nbformat_minor": 5
}
