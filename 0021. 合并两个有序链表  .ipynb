{
 "cells": [
  {
   "cell_type": "markdown",
   "id": "8ce0b720",
   "metadata": {},
   "source": [
    "# 21. 合并两个有序链表  \n",
    "\n",
    "将两个升序链表合并为一个新的 升序 链表并返回。新链表是通过拼接给定的两个链表的所有节点组成的。   \n",
    "\n",
    " \n",
    "\n",
    "示例 1：   \n",
    "\n",
    "\n",
    "输入：l1 = [1,2,4], l2 = [1,3,4]  \n",
    "输出：[1,1,2,3,4,4]  \n",
    "示例 2：  \n",
    "\n",
    "输入：l1 = [], l2 = []  \n",
    "输出：[]  \n",
    "示例 3：  \n",
    "\n",
    "输入：l1 = [], l2 = [0]  \n",
    "输出：[0]  \n",
    " \n",
    "\n",
    "提示：  \n",
    "\n",
    "两个链表的节点数目范围是 [0, 50]  \n",
    "-100 <= Node.val <= 100  \n",
    "l1 和 l2 均按 非递减顺序 排列  "
   ]
  },
  {
   "cell_type": "code",
   "execution_count": 5,
   "id": "92979c2f",
   "metadata": {},
   "outputs": [],
   "source": [
    "from list import ListNode\n",
    "from typing import Optional\n"
   ]
  },
  {
   "cell_type": "code",
   "execution_count": 17,
   "id": "3d6b12e1",
   "metadata": {},
   "outputs": [],
   "source": [
    "\n",
    "        \n",
    "class Solution:\n",
    "    def mergeTwoLists(self, list1: Optional[ListNode], list2: Optional[ListNode]) -> Optional[ListNode]:\n",
    "        cursor1 = list1\n",
    "        cursor2 = list2\n",
    "        res_cursor = dummy_list = ListNode()\n",
    "        \n",
    "        while cursor1 or cursor2:\n",
    "            if cursor1 and cursor2:\n",
    "                if cursor1.val <= cursor2.val:\n",
    "                    res_cursor.next = cursor1\n",
    "                    cursor1 = cursor1.next\n",
    "                else:\n",
    "                    res_cursor.next = cursor2\n",
    "                    cursor2 = cursor2.next\n",
    "            elif cursor1:\n",
    "                res_cursor.next = cursor1\n",
    "                cursor1 = cursor1.next\n",
    "            else:\n",
    "                res_cursor.next = cursor2\n",
    "                cursor2 = cursor2.next\n",
    "            \n",
    "            res_cursor = res_cursor.next\n",
    "            \n",
    "        return dummy_list.next"
   ]
  },
  {
   "cell_type": "code",
   "execution_count": 23,
   "id": "ce14a188",
   "metadata": {},
   "outputs": [
    {
     "name": "stdout",
     "output_type": "stream",
     "text": [
      "0\n",
      "1\n",
      "2\n",
      "2\n",
      "3\n",
      "3\n",
      "[1, 2, 2, 3, 3, 5]\n"
     ]
    }
   ],
   "source": [
    "list1 = ListNode.create_list_with_arr([1,2,3])\n",
    "list2 =  ListNode.create_list_with_arr([2,3,5])\n",
    "res = Solution().mergeTwoLists(list1, list2)\n",
    "ListNode.print_list(res)"
   ]
  },
  {
   "cell_type": "code",
   "execution_count": 22,
   "id": "4f1a3401",
   "metadata": {},
   "outputs": [
    {
     "name": "stdout",
     "output_type": "stream",
     "text": [
      "0\n",
      "2\n",
      "3\n",
      "[2, 3, 5]\n"
     ]
    }
   ],
   "source": [
    "list1 = ListNode.create_list_with_arr([])\n",
    "list2 =  ListNode.create_list_with_arr([2,3,5])\n",
    "res = Solution().mergeTwoLists(list1, list2)\n",
    "ListNode.print_list(res)"
   ]
  },
  {
   "cell_type": "code",
   "execution_count": 24,
   "id": "c2fe6c79",
   "metadata": {},
   "outputs": [
    {
     "name": "stdout",
     "output_type": "stream",
     "text": [
      "[]\n"
     ]
    }
   ],
   "source": [
    "list1 = ListNode.create_list_with_arr([])\n",
    "list2 =  ListNode.create_list_with_arr([])\n",
    "res = Solution().mergeTwoLists(list1, list2)\n",
    "ListNode.print_list(res)"
   ]
  },
  {
   "cell_type": "code",
   "execution_count": 25,
   "id": "c566386b",
   "metadata": {},
   "outputs": [
    {
     "name": "stdout",
     "output_type": "stream",
     "text": [
      "0\n",
      "1\n",
      "2\n",
      "3\n",
      "4\n",
      "5\n",
      "6\n",
      "7\n",
      "8\n",
      "9\n",
      "[1, 2, 3, 4, 5, 6, 7, 8, 9, 10]\n"
     ]
    }
   ],
   "source": [
    "list1 = ListNode.create_list_with_arr([1,2,3,4,5,6,7,8,9,10])\n",
    "list2 =  ListNode.create_list_with_arr([])\n",
    "res = Solution().mergeTwoLists(list1, list2)\n",
    "ListNode.print_list(res)"
   ]
  },
  {
   "cell_type": "code",
   "execution_count": null,
   "id": "68abe52c",
   "metadata": {},
   "outputs": [],
   "source": []
  }
 ],
 "metadata": {
  "kernelspec": {
   "display_name": "Python 3 (ipykernel)",
   "language": "python",
   "name": "python3"
  },
  "language_info": {
   "codemirror_mode": {
    "name": "ipython",
    "version": 3
   },
   "file_extension": ".py",
   "mimetype": "text/x-python",
   "name": "python",
   "nbconvert_exporter": "python",
   "pygments_lexer": "ipython3",
   "version": "3.7.16"
  }
 },
 "nbformat": 4,
 "nbformat_minor": 5
}
