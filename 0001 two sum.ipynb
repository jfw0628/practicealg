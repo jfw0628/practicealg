{
 "cells": [
  {
   "cell_type": "markdown",
   "id": "5ab44404",
   "metadata": {},
   "source": [
    "1. 两数之和\n",
    "提示\n",
    "简单\n",
    "18.1K\n",
    "相关企业\n",
    "给定一个整数数组 nums 和一个整数目标值 target，请你在该数组中找出 和为目标值 target  的那 两个 整数，并返回它们的数组下标。\n",
    "\n",
    "你可以假设每种输入只会对应一个答案。但是，数组中同一个元素在答案里不能重复出现。\n",
    "\n",
    "你可以按任意顺序返回答案。\n",
    "\n",
    " \n",
    "\n",
    "示例 1：\n",
    "\n",
    "输入：nums = [2,7,11,15], target = 9\n",
    "输出：[0,1]\n",
    "解释：因为 nums[0] + nums[1] == 9 ，返回 [0, 1] 。\n",
    "示例 2：\n",
    "\n",
    "输入：nums = [3,2,4], target = 6\n",
    "输出：[1,2]\n",
    "示例 3：\n",
    "\n",
    "输入：nums = [3,3], target = 6\n",
    "输出：[0,1]\n",
    " \n",
    "\n",
    "提示：\n",
    "\n",
    "2 <= nums.length <= 104\n",
    "-109 <= nums[i] <= 109\n",
    "-109 <= target <= 109\n",
    "只会存在一个有效答案\n",
    " \n",
    "\n",
    "进阶：你可以想出一个时间复杂度小于 O(n2) 的算法吗？"
   ]
  },
  {
   "cell_type": "code",
   "execution_count": 4,
   "id": "3dfc00ec",
   "metadata": {},
   "outputs": [],
   "source": [
    "from typing import List"
   ]
  },
  {
   "cell_type": "code",
   "execution_count": 3,
   "id": "d7cf5a02",
   "metadata": {},
   "outputs": [],
   "source": [
    "class Solution:\n",
    "    def twoSum(self, nums: List[int], target: int) -> List[int]:\n",
    "        mappings = {}\n",
    "        for index, num in enumerate(nums):\n",
    "            pair_num = target - num\n",
    "            if pair_num in mappings:\n",
    "                return [mappings[pair_num], index]\n",
    "            else:\n",
    "                mappings[num] = index"
   ]
  },
  {
   "cell_type": "code",
   "execution_count": null,
   "id": "a7e03beb",
   "metadata": {},
   "outputs": [],
   "source": []
  }
 ],
 "metadata": {
  "kernelspec": {
   "display_name": "Python 3 (ipykernel)",
   "language": "python",
   "name": "python3"
  },
  "language_info": {
   "codemirror_mode": {
    "name": "ipython",
    "version": 3
   },
   "file_extension": ".py",
   "mimetype": "text/x-python",
   "name": "python",
   "nbconvert_exporter": "python",
   "pygments_lexer": "ipython3",
   "version": "3.9.12"
  }
 },
 "nbformat": 4,
 "nbformat_minor": 5
}
