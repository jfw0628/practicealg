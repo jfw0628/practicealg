{
 "cells": [
  {
   "cell_type": "markdown",
   "id": "ec449b0d-5240-4583-a634-a6c37a7650cc",
   "metadata": {},
   "source": [
    "# 1276. 不浪费原料的汉堡制作方案\r",
    "相关企业\r\n",
    "圣诞活动预热开始啦，汉堡店推出了全新的汉堡套餐。为了避免浪费原料，请你帮他们制定合适的  制作计划。\r\n",
    "\r\n",
    "给你两个整数 tomatoSlices 和 cheeseSlices，分别表示番茄片和奶酪片的数目。不同汉堡的  原料搭配如下：\r\n",
    "\r\n",
    "巨无霸汉堡：4 片  番茄和 1 片奶酪\r\n",
    "小皇堡：2   片番茄和 1 片奶酪\r\n",
    "请你以 [total_jumbo, total_small]（[巨无霸汉堡总数，小皇堡总数]）的格式返回恰当的制作方案，使得剩下的番茄片 tomatoSlices 和奶酪片 cheeseSlic  es 的数量都是 0。\r\n",
    "\r\n",
    "如果无法使剩下的番茄片 tomatoSlices 和奶酪片 cheeseSlices 的数  量为 0，就请返回   []。\r\n",
    "\r\n",
    " \r\n",
    "\r\n",
    "示例 1：\r\n",
    "\r\n",
    "输入：tomatoSlices = 1  6, cheese  Slices = 7\r\n",
    "输出：[1,6]\r\n",
    "解释：制作 1 个巨无霸汉堡和 6 个小皇堡需要 4*1 + 2*6 = 16 片番茄和   1 + 6   = 7 片奶酪。不会剩下原料。\r\n",
    "示例 2：\r\n",
    "\r\n",
    "输入：tomatoSlice  s = 17  , cheeseSlices = 4\r\n",
    "输出：[]  \r\n",
    "解释：只  制作小皇堡和巨无霸汉堡无法用光全部原料。\r\n",
    "示例 3：\r\n",
    "\r\n",
    "输入：tomato  Slices    = 4, cheeseSlices = 17\r\n",
    "输出：[]\r\n",
    "解释：制作 1 个巨无霸汉堡  会剩下 16   片奶酪，制作 2 个小皇堡会剩下 15 片奶酪。\r\n",
    "示例 4：\r\n",
    "\r\n",
    "输入：    tomatoSli  ces =   0, cheeseSlices = 0\r\n",
    "输出：[0,0]\r\n",
    "示例 5：\r\n",
    "\r",
    "  \n",
    "输入：tomat  oSlices   = 2, cheeseSlices = 1\r\n",
    "输出：  [0,1]\r\n",
    " \r\n",
    "\r\n",
    "提示：\r\n",
    "\r\n",
    "0 <= to  m atoSlices <= 10^7\r\n",
    "0 <= cheeseSlices <= 10^7\r\n"
   ]
  },
  {
   "cell_type": "code",
   "execution_count": 3,
   "id": "ae946953-fba4-4d55-8ba4-9507f679b4ad",
   "metadata": {},
   "outputs": [],
   "source": [
    "from typing import List"
   ]
  },
  {
   "cell_type": "code",
   "execution_count": 16,
   "id": "d5e795e1-799c-4fa5-8672-53a1ac738a22",
   "metadata": {},
   "outputs": [],
   "source": [
    "class Solution:\n",
    "    def numOfBurgers(self, tomatoSlices: int, cheeseSlices: int) -> List[int]:\n",
    "        if tomatoSlices % 2 != 0 or tomatoSlices < cheeseSlices * 2 or cheeseSlices * 4 < tomatoSlices:\n",
    "            return []\n",
    "        return [tomatoSlices // 2 - cheeseSlices, cheeseSlices * 2 - tomatoSlices // 2]\n",
    "\n"
   ]
  },
  {
   "cell_type": "code",
   "execution_count": 11,
   "id": "c54a6db6-003f-4f62-9937-6cfe3387f4c2",
   "metadata": {},
   "outputs": [],
   "source": [
    "class Solution:\n",
    "    def numOfBurgers(self, tomatoSlices: int, cheeseSlices: int) -> List[int]:\n",
    "        if cheeseSlices > 0 and (tomatoSlices / cheeseSlices > 4 or tomatoSlices / cheeseSlices < 2):\n",
    "            return []\n",
    "\n",
    "        huge_hamburger_count = 0\n",
    "        little_hamburger_count = 0\n",
    "        \n",
    "        while tomatoSlices >= 2 and cheeseSlices > 0:\n",
    "            if tomatoSlices / cheeseSlices <= 3:\n",
    "                little_hamburger_count += 1\n",
    "                tomatoSlices -= 2\n",
    "                cheeseSlices -= 1\n",
    "            elif tomatoSlices / cheeseSlices > 3:\n",
    "                huge_hamburger_count += 1\n",
    "                tomatoSlices -= 4\n",
    "                cheeseSlices -= 1\n",
    "\n",
    "        print(tomatoSlices, cheeseSlices)\n",
    "        if tomatoSlices != 0 or cheeseSlices != 0:\n",
    "            return []\n",
    "        else:\n",
    "            return [huge_hamburger_count, little_hamburger_count]\n",
    "                \n",
    "                "
   ]
  },
  {
   "cell_type": "code",
   "execution_count": 12,
   "id": "5efd537b-91a9-4e0e-a2a4-f84500a23e29",
   "metadata": {},
   "outputs": [
    {
     "name": "stdout",
     "output_type": "stream",
     "text": [
      "0 0\n"
     ]
    },
    {
     "data": {
      "text/plain": [
       "[4000000, 0]"
      ]
     },
     "execution_count": 12,
     "metadata": {},
     "output_type": "execute_result"
    }
   ],
   "source": [
    "Solution().numOfBurgers(16000000, 4000000)"
   ]
  },
  {
   "cell_type": "code",
   "execution_count": 13,
   "id": "058f4ba0-f981-4895-80bf-ee3bde33f13a",
   "metadata": {},
   "outputs": [
    {
     "name": "stdout",
     "output_type": "stream",
     "text": [
      "0 0\n"
     ]
    },
    {
     "data": {
      "text/plain": [
       "[0, 0]"
      ]
     },
     "execution_count": 13,
     "metadata": {},
     "output_type": "execute_result"
    }
   ],
   "source": [
    "Solution().numOfBurgers(0, 0)"
   ]
  },
  {
   "cell_type": "code",
   "execution_count": 17,
   "id": "d197c196-0ffe-4791-b5a2-ae948bfc47bb",
   "metadata": {},
   "outputs": [
    {
     "data": {
      "text/plain": [
       "[357788, 608867]"
      ]
     },
     "execution_count": 17,
     "metadata": {},
     "output_type": "execute_result"
    }
   ],
   "source": [
    "Solution().numOfBurgers(2648886, 966655)"
   ]
  },
  {
   "cell_type": "code",
   "execution_count": null,
   "id": "62a3dfa0-84a0-49a1-9de8-caa6d416b668",
   "metadata": {},
   "outputs": [],
   "source": []
  }
 ],
 "metadata": {
  "kernelspec": {
   "display_name": "Python 3 (ipykernel)",
   "language": "python",
   "name": "python3"
  },
  "language_info": {
   "codemirror_mode": {
    "name": "ipython",
    "version": 3
   },
   "file_extension": ".py",
   "mimetype": "text/x-python",
   "name": "python",
   "nbconvert_exporter": "python",
   "pygments_lexer": "ipython3",
   "version": "3.11.5"
  }
 },
 "nbformat": 4,
 "nbformat_minor": 5
}
